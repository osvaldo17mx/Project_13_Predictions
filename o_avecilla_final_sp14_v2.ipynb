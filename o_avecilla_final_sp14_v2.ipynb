{
 "cells": [
  {
   "cell_type": "code",
   "execution_count": 1,
   "metadata": {},
   "outputs": [
    {
     "name": "stdout",
     "output_type": "stream",
     "text": [
      "c:\\Users\\osval\\sprint_14_Proy_Final\n"
     ]
    }
   ],
   "source": [
    "import pandas as pd\n",
    "import os\n",
    "import numpy as np\n",
    "import matplotlib.pyplot as plt\n",
    "import seaborn as sns\n",
    "from scipy import stats\n",
    "import plotly.express as px\n",
    "print(os.getcwd())\n",
    "from statsmodels.stats.proportion import proportions_ztest\n",
    "import statsmodels.api as sm\n",
    "from plotly import graph_objects as go\n",
    "from scipy.stats import norm"
   ]
  },
  {
   "cell_type": "markdown",
   "metadata": {},
   "source": [
    "Descripción técnica\n",
    "<br>Nombre de la prueba: recommender_system_test\n",
    "<br>Grupos: А (control), B (nuevo embudo de pago)\n",
    "<br>Fecha de lanzamiento: 2020-12-07\n",
    "<br>Fecha en la que dejaron de aceptar nuevos usuarios: 2020-12-21\n",
    "<br>Fecha de finalización: 2021-01-01\n",
    "<br>Audiencia: 15% de los nuevos usuarios de la región de la UE\n",
    "<br>Propósito de la prueba: probar cambios relacionados con la introducción de un sistema de recomendaciones mejorado\n",
    "<br>Resultado esperado: dentro de los 14 días posteriores a la inscripción, los usuarios mostrarán una mejor conversión en vistas de la página del producto (el evento product_page), instancias de agregar artículos al carrito de compras (product_cart) y compras (purchase). En cada etapa del embudo product_page → product_cart → purchase, habrá al menos un 10% de aumento.\n",
    "<br>Número previsto de participantes de la prueba: 6 000"
   ]
  },
  {
   "cell_type": "markdown",
   "metadata": {},
   "source": [
    "ab_project_marketing_events_us.csv — el calendario de eventos de marketing para 2020<br>\n",
    "<br>final_ab_new_users_upd_us.csv — todos los usuarios que se registraron en la tienda en línea desde el 7 hasta el 21 de diciembre de 2020<br>\n",
    "<br>final_ab_events_upd_us.csv — todos los eventos de los nuevos usuarios en el período comprendido entre el 7 de diciembre de 2020 y el 1 de enero de 2021<br>\n",
    "<br>final_ab_participants_upd_us.csv — tabla con los datos de los participantes de la prueba"
   ]
  },
  {
   "cell_type": "code",
   "execution_count": 2,
   "metadata": {},
   "outputs": [],
   "source": [
    "# Carga el archivo de texto especificando el separador adecuado (por ejemplo, coma, tabulación)\n",
    "eventos_mkt = pd.read_csv('C://Users//osval//sprint_14_Proy_Final//ab_test//ab_project_marketing_events_us.txt', sep=',')  # Cambia el separador si es necesario\n",
    "new_users = pd.read_csv('C://Users//osval//sprint_14_Proy_Final//ab_test//final_ab_new_users_upd_us.txt')\n",
    "events_new_users = pd.read_csv('C://Users//osval//sprint_14_Proy_Final//ab_test//final_ab_events_upd_us.txt')\n",
    "ab_test_data = pd.read_csv('C://Users//osval//sprint_14_Proy_Final//ab_test//final_ab_participants_upd_us.txt')"
   ]
  },
  {
   "cell_type": "markdown",
   "metadata": {},
   "source": [
    "### Análisis de eventos_mkt"
   ]
  },
  {
   "cell_type": "code",
   "execution_count": 3,
   "metadata": {},
   "outputs": [
    {
     "name": "stdout",
     "output_type": "stream",
     "text": [
      "<class 'pandas.core.frame.DataFrame'>\n",
      "RangeIndex: 14 entries, 0 to 13\n",
      "Data columns (total 4 columns):\n",
      " #   Column     Non-Null Count  Dtype \n",
      "---  ------     --------------  ----- \n",
      " 0   name       14 non-null     object\n",
      " 1   regions    14 non-null     object\n",
      " 2   start_dt   14 non-null     object\n",
      " 3   finish_dt  14 non-null     object\n",
      "dtypes: object(4)\n",
      "memory usage: 580.0+ bytes\n"
     ]
    }
   ],
   "source": [
    "eventos_mkt.info()"
   ]
  },
  {
   "cell_type": "markdown",
   "metadata": {},
   "source": [
    "Convertir dates de obj a fechas"
   ]
  },
  {
   "cell_type": "code",
   "execution_count": 4,
   "metadata": {},
   "outputs": [],
   "source": [
    "eventos_mkt['start_dt'] = pd.to_datetime(eventos_mkt['start_dt'])\n",
    "eventos_mkt['finish_dt'] = pd.to_datetime(eventos_mkt['finish_dt'])"
   ]
  },
  {
   "cell_type": "code",
   "execution_count": 5,
   "metadata": {},
   "outputs": [
    {
     "data": {
      "text/html": [
       "<div>\n",
       "<style scoped>\n",
       "    .dataframe tbody tr th:only-of-type {\n",
       "        vertical-align: middle;\n",
       "    }\n",
       "\n",
       "    .dataframe tbody tr th {\n",
       "        vertical-align: top;\n",
       "    }\n",
       "\n",
       "    .dataframe thead th {\n",
       "        text-align: right;\n",
       "    }\n",
       "</style>\n",
       "<table border=\"1\" class=\"dataframe\">\n",
       "  <thead>\n",
       "    <tr style=\"text-align: right;\">\n",
       "      <th></th>\n",
       "      <th>name</th>\n",
       "      <th>regions</th>\n",
       "      <th>start_dt</th>\n",
       "      <th>finish_dt</th>\n",
       "    </tr>\n",
       "  </thead>\n",
       "  <tbody>\n",
       "    <tr>\n",
       "      <th>0</th>\n",
       "      <td>Christmas&amp;New Year Promo</td>\n",
       "      <td>EU, N.America</td>\n",
       "      <td>2020-12-25</td>\n",
       "      <td>2021-01-03</td>\n",
       "    </tr>\n",
       "    <tr>\n",
       "      <th>1</th>\n",
       "      <td>St. Valentine's Day Giveaway</td>\n",
       "      <td>EU, CIS, APAC, N.America</td>\n",
       "      <td>2020-02-14</td>\n",
       "      <td>2020-02-16</td>\n",
       "    </tr>\n",
       "    <tr>\n",
       "      <th>2</th>\n",
       "      <td>St. Patric's Day Promo</td>\n",
       "      <td>EU, N.America</td>\n",
       "      <td>2020-03-17</td>\n",
       "      <td>2020-03-19</td>\n",
       "    </tr>\n",
       "    <tr>\n",
       "      <th>3</th>\n",
       "      <td>Easter Promo</td>\n",
       "      <td>EU, CIS, APAC, N.America</td>\n",
       "      <td>2020-04-12</td>\n",
       "      <td>2020-04-19</td>\n",
       "    </tr>\n",
       "    <tr>\n",
       "      <th>4</th>\n",
       "      <td>4th of July Promo</td>\n",
       "      <td>N.America</td>\n",
       "      <td>2020-07-04</td>\n",
       "      <td>2020-07-11</td>\n",
       "    </tr>\n",
       "    <tr>\n",
       "      <th>5</th>\n",
       "      <td>Black Friday Ads Campaign</td>\n",
       "      <td>EU, CIS, APAC, N.America</td>\n",
       "      <td>2020-11-26</td>\n",
       "      <td>2020-12-01</td>\n",
       "    </tr>\n",
       "    <tr>\n",
       "      <th>6</th>\n",
       "      <td>Chinese New Year Promo</td>\n",
       "      <td>APAC</td>\n",
       "      <td>2020-01-25</td>\n",
       "      <td>2020-02-07</td>\n",
       "    </tr>\n",
       "    <tr>\n",
       "      <th>7</th>\n",
       "      <td>Labor day (May 1st) Ads Campaign</td>\n",
       "      <td>EU, CIS, APAC</td>\n",
       "      <td>2020-05-01</td>\n",
       "      <td>2020-05-03</td>\n",
       "    </tr>\n",
       "    <tr>\n",
       "      <th>8</th>\n",
       "      <td>International Women's Day Promo</td>\n",
       "      <td>EU, CIS, APAC</td>\n",
       "      <td>2020-03-08</td>\n",
       "      <td>2020-03-10</td>\n",
       "    </tr>\n",
       "    <tr>\n",
       "      <th>9</th>\n",
       "      <td>Victory Day CIS (May 9th) Event</td>\n",
       "      <td>CIS</td>\n",
       "      <td>2020-05-09</td>\n",
       "      <td>2020-05-11</td>\n",
       "    </tr>\n",
       "    <tr>\n",
       "      <th>10</th>\n",
       "      <td>CIS New Year Gift Lottery</td>\n",
       "      <td>CIS</td>\n",
       "      <td>2020-12-30</td>\n",
       "      <td>2021-01-07</td>\n",
       "    </tr>\n",
       "    <tr>\n",
       "      <th>11</th>\n",
       "      <td>Dragon Boat Festival Giveaway</td>\n",
       "      <td>APAC</td>\n",
       "      <td>2020-06-25</td>\n",
       "      <td>2020-07-01</td>\n",
       "    </tr>\n",
       "    <tr>\n",
       "      <th>12</th>\n",
       "      <td>Single's Day Gift Promo</td>\n",
       "      <td>APAC</td>\n",
       "      <td>2020-11-11</td>\n",
       "      <td>2020-11-12</td>\n",
       "    </tr>\n",
       "    <tr>\n",
       "      <th>13</th>\n",
       "      <td>Chinese Moon Festival</td>\n",
       "      <td>APAC</td>\n",
       "      <td>2020-10-01</td>\n",
       "      <td>2020-10-07</td>\n",
       "    </tr>\n",
       "  </tbody>\n",
       "</table>\n",
       "</div>"
      ],
      "text/plain": [
       "                                name                   regions   start_dt  \\\n",
       "0           Christmas&New Year Promo             EU, N.America 2020-12-25   \n",
       "1       St. Valentine's Day Giveaway  EU, CIS, APAC, N.America 2020-02-14   \n",
       "2             St. Patric's Day Promo             EU, N.America 2020-03-17   \n",
       "3                       Easter Promo  EU, CIS, APAC, N.America 2020-04-12   \n",
       "4                  4th of July Promo                 N.America 2020-07-04   \n",
       "5          Black Friday Ads Campaign  EU, CIS, APAC, N.America 2020-11-26   \n",
       "6             Chinese New Year Promo                      APAC 2020-01-25   \n",
       "7   Labor day (May 1st) Ads Campaign             EU, CIS, APAC 2020-05-01   \n",
       "8    International Women's Day Promo             EU, CIS, APAC 2020-03-08   \n",
       "9    Victory Day CIS (May 9th) Event                       CIS 2020-05-09   \n",
       "10         CIS New Year Gift Lottery                       CIS 2020-12-30   \n",
       "11     Dragon Boat Festival Giveaway                      APAC 2020-06-25   \n",
       "12           Single's Day Gift Promo                      APAC 2020-11-11   \n",
       "13             Chinese Moon Festival                      APAC 2020-10-01   \n",
       "\n",
       "    finish_dt  \n",
       "0  2021-01-03  \n",
       "1  2020-02-16  \n",
       "2  2020-03-19  \n",
       "3  2020-04-19  \n",
       "4  2020-07-11  \n",
       "5  2020-12-01  \n",
       "6  2020-02-07  \n",
       "7  2020-05-03  \n",
       "8  2020-03-10  \n",
       "9  2020-05-11  \n",
       "10 2021-01-07  \n",
       "11 2020-07-01  \n",
       "12 2020-11-12  \n",
       "13 2020-10-07  "
      ]
     },
     "metadata": {},
     "output_type": "display_data"
    }
   ],
   "source": [
    "display(eventos_mkt)"
   ]
  },
  {
   "cell_type": "markdown",
   "metadata": {},
   "source": [
    "### analisis de New Users"
   ]
  },
  {
   "cell_type": "code",
   "execution_count": 6,
   "metadata": {},
   "outputs": [
    {
     "name": "stdout",
     "output_type": "stream",
     "text": [
      "<class 'pandas.core.frame.DataFrame'>\n",
      "RangeIndex: 58703 entries, 0 to 58702\n",
      "Data columns (total 4 columns):\n",
      " #   Column      Non-Null Count  Dtype \n",
      "---  ------      --------------  ----- \n",
      " 0   user_id     58703 non-null  object\n",
      " 1   first_date  58703 non-null  object\n",
      " 2   region      58703 non-null  object\n",
      " 3   device      58703 non-null  object\n",
      "dtypes: object(4)\n",
      "memory usage: 1.8+ MB\n"
     ]
    }
   ],
   "source": [
    "new_users.info()"
   ]
  },
  {
   "cell_type": "code",
   "execution_count": 7,
   "metadata": {},
   "outputs": [],
   "source": [
    "new_users['first_date'] = pd.to_datetime(new_users['first_date'])"
   ]
  },
  {
   "cell_type": "code",
   "execution_count": 8,
   "metadata": {},
   "outputs": [
    {
     "data": {
      "text/html": [
       "<div>\n",
       "<style scoped>\n",
       "    .dataframe tbody tr th:only-of-type {\n",
       "        vertical-align: middle;\n",
       "    }\n",
       "\n",
       "    .dataframe tbody tr th {\n",
       "        vertical-align: top;\n",
       "    }\n",
       "\n",
       "    .dataframe thead th {\n",
       "        text-align: right;\n",
       "    }\n",
       "</style>\n",
       "<table border=\"1\" class=\"dataframe\">\n",
       "  <thead>\n",
       "    <tr style=\"text-align: right;\">\n",
       "      <th></th>\n",
       "      <th>user_id</th>\n",
       "      <th>first_date</th>\n",
       "      <th>region</th>\n",
       "      <th>device</th>\n",
       "    </tr>\n",
       "  </thead>\n",
       "  <tbody>\n",
       "    <tr>\n",
       "      <th>0</th>\n",
       "      <td>D72A72121175D8BE</td>\n",
       "      <td>2020-12-07</td>\n",
       "      <td>EU</td>\n",
       "      <td>PC</td>\n",
       "    </tr>\n",
       "    <tr>\n",
       "      <th>1</th>\n",
       "      <td>F1C668619DFE6E65</td>\n",
       "      <td>2020-12-07</td>\n",
       "      <td>N.America</td>\n",
       "      <td>Android</td>\n",
       "    </tr>\n",
       "    <tr>\n",
       "      <th>2</th>\n",
       "      <td>2E1BF1D4C37EA01F</td>\n",
       "      <td>2020-12-07</td>\n",
       "      <td>EU</td>\n",
       "      <td>PC</td>\n",
       "    </tr>\n",
       "    <tr>\n",
       "      <th>3</th>\n",
       "      <td>50734A22C0C63768</td>\n",
       "      <td>2020-12-07</td>\n",
       "      <td>EU</td>\n",
       "      <td>iPhone</td>\n",
       "    </tr>\n",
       "    <tr>\n",
       "      <th>4</th>\n",
       "      <td>E1BDDCE0DAFA2679</td>\n",
       "      <td>2020-12-07</td>\n",
       "      <td>N.America</td>\n",
       "      <td>iPhone</td>\n",
       "    </tr>\n",
       "    <tr>\n",
       "      <th>...</th>\n",
       "      <td>...</td>\n",
       "      <td>...</td>\n",
       "      <td>...</td>\n",
       "      <td>...</td>\n",
       "    </tr>\n",
       "    <tr>\n",
       "      <th>58698</th>\n",
       "      <td>1DB53B933257165D</td>\n",
       "      <td>2020-12-20</td>\n",
       "      <td>EU</td>\n",
       "      <td>Android</td>\n",
       "    </tr>\n",
       "    <tr>\n",
       "      <th>58699</th>\n",
       "      <td>538643EB4527ED03</td>\n",
       "      <td>2020-12-20</td>\n",
       "      <td>EU</td>\n",
       "      <td>Mac</td>\n",
       "    </tr>\n",
       "    <tr>\n",
       "      <th>58700</th>\n",
       "      <td>7ADEE837D5D8CBBD</td>\n",
       "      <td>2020-12-20</td>\n",
       "      <td>EU</td>\n",
       "      <td>PC</td>\n",
       "    </tr>\n",
       "    <tr>\n",
       "      <th>58701</th>\n",
       "      <td>1C7D23927835213F</td>\n",
       "      <td>2020-12-20</td>\n",
       "      <td>EU</td>\n",
       "      <td>iPhone</td>\n",
       "    </tr>\n",
       "    <tr>\n",
       "      <th>58702</th>\n",
       "      <td>8F04273BB2860229</td>\n",
       "      <td>2020-12-20</td>\n",
       "      <td>EU</td>\n",
       "      <td>Android</td>\n",
       "    </tr>\n",
       "  </tbody>\n",
       "</table>\n",
       "<p>58703 rows × 4 columns</p>\n",
       "</div>"
      ],
      "text/plain": [
       "                user_id first_date     region   device\n",
       "0      D72A72121175D8BE 2020-12-07         EU       PC\n",
       "1      F1C668619DFE6E65 2020-12-07  N.America  Android\n",
       "2      2E1BF1D4C37EA01F 2020-12-07         EU       PC\n",
       "3      50734A22C0C63768 2020-12-07         EU   iPhone\n",
       "4      E1BDDCE0DAFA2679 2020-12-07  N.America   iPhone\n",
       "...                 ...        ...        ...      ...\n",
       "58698  1DB53B933257165D 2020-12-20         EU  Android\n",
       "58699  538643EB4527ED03 2020-12-20         EU      Mac\n",
       "58700  7ADEE837D5D8CBBD 2020-12-20         EU       PC\n",
       "58701  1C7D23927835213F 2020-12-20         EU   iPhone\n",
       "58702  8F04273BB2860229 2020-12-20         EU  Android\n",
       "\n",
       "[58703 rows x 4 columns]"
      ]
     },
     "metadata": {},
     "output_type": "display_data"
    }
   ],
   "source": [
    "display(new_users)"
   ]
  },
  {
   "cell_type": "code",
   "execution_count": 9,
   "metadata": {},
   "outputs": [
    {
     "data": {
      "text/html": [
       "<div>\n",
       "<style scoped>\n",
       "    .dataframe tbody tr th:only-of-type {\n",
       "        vertical-align: middle;\n",
       "    }\n",
       "\n",
       "    .dataframe tbody tr th {\n",
       "        vertical-align: top;\n",
       "    }\n",
       "\n",
       "    .dataframe thead th {\n",
       "        text-align: right;\n",
       "    }\n",
       "</style>\n",
       "<table border=\"1\" class=\"dataframe\">\n",
       "  <thead>\n",
       "    <tr style=\"text-align: right;\">\n",
       "      <th></th>\n",
       "      <th>user_id</th>\n",
       "      <th>first_date</th>\n",
       "      <th>region</th>\n",
       "      <th>device</th>\n",
       "    </tr>\n",
       "  </thead>\n",
       "  <tbody>\n",
       "    <tr>\n",
       "      <th>0</th>\n",
       "      <td>D72A72121175D8BE</td>\n",
       "      <td>2020-12-07</td>\n",
       "      <td>EU</td>\n",
       "      <td>PC</td>\n",
       "    </tr>\n",
       "    <tr>\n",
       "      <th>1</th>\n",
       "      <td>2E1BF1D4C37EA01F</td>\n",
       "      <td>2020-12-07</td>\n",
       "      <td>EU</td>\n",
       "      <td>PC</td>\n",
       "    </tr>\n",
       "    <tr>\n",
       "      <th>2</th>\n",
       "      <td>50734A22C0C63768</td>\n",
       "      <td>2020-12-07</td>\n",
       "      <td>EU</td>\n",
       "      <td>iPhone</td>\n",
       "    </tr>\n",
       "    <tr>\n",
       "      <th>3</th>\n",
       "      <td>8942E64218C9A1ED</td>\n",
       "      <td>2020-12-07</td>\n",
       "      <td>EU</td>\n",
       "      <td>PC</td>\n",
       "    </tr>\n",
       "    <tr>\n",
       "      <th>4</th>\n",
       "      <td>FFCEA1179C253104</td>\n",
       "      <td>2020-12-07</td>\n",
       "      <td>EU</td>\n",
       "      <td>Android</td>\n",
       "    </tr>\n",
       "    <tr>\n",
       "      <th>...</th>\n",
       "      <td>...</td>\n",
       "      <td>...</td>\n",
       "      <td>...</td>\n",
       "      <td>...</td>\n",
       "    </tr>\n",
       "    <tr>\n",
       "      <th>43391</th>\n",
       "      <td>1DB53B933257165D</td>\n",
       "      <td>2020-12-20</td>\n",
       "      <td>EU</td>\n",
       "      <td>Android</td>\n",
       "    </tr>\n",
       "    <tr>\n",
       "      <th>43392</th>\n",
       "      <td>538643EB4527ED03</td>\n",
       "      <td>2020-12-20</td>\n",
       "      <td>EU</td>\n",
       "      <td>Mac</td>\n",
       "    </tr>\n",
       "    <tr>\n",
       "      <th>43393</th>\n",
       "      <td>7ADEE837D5D8CBBD</td>\n",
       "      <td>2020-12-20</td>\n",
       "      <td>EU</td>\n",
       "      <td>PC</td>\n",
       "    </tr>\n",
       "    <tr>\n",
       "      <th>43394</th>\n",
       "      <td>1C7D23927835213F</td>\n",
       "      <td>2020-12-20</td>\n",
       "      <td>EU</td>\n",
       "      <td>iPhone</td>\n",
       "    </tr>\n",
       "    <tr>\n",
       "      <th>43395</th>\n",
       "      <td>8F04273BB2860229</td>\n",
       "      <td>2020-12-20</td>\n",
       "      <td>EU</td>\n",
       "      <td>Android</td>\n",
       "    </tr>\n",
       "  </tbody>\n",
       "</table>\n",
       "<p>43396 rows × 4 columns</p>\n",
       "</div>"
      ],
      "text/plain": [
       "                user_id first_date region   device\n",
       "0      D72A72121175D8BE 2020-12-07     EU       PC\n",
       "1      2E1BF1D4C37EA01F 2020-12-07     EU       PC\n",
       "2      50734A22C0C63768 2020-12-07     EU   iPhone\n",
       "3      8942E64218C9A1ED 2020-12-07     EU       PC\n",
       "4      FFCEA1179C253104 2020-12-07     EU  Android\n",
       "...                 ...        ...    ...      ...\n",
       "43391  1DB53B933257165D 2020-12-20     EU  Android\n",
       "43392  538643EB4527ED03 2020-12-20     EU      Mac\n",
       "43393  7ADEE837D5D8CBBD 2020-12-20     EU       PC\n",
       "43394  1C7D23927835213F 2020-12-20     EU   iPhone\n",
       "43395  8F04273BB2860229 2020-12-20     EU  Android\n",
       "\n",
       "[43396 rows x 4 columns]"
      ]
     },
     "metadata": {},
     "output_type": "display_data"
    }
   ],
   "source": [
    "#Filtro para usuarios de la EU\n",
    "\n",
    "only_eu = new_users[new_users['region'] == 'EU'].reset_index()\n",
    "only_eu = only_eu.drop(columns='index')\n",
    "display(only_eu)"
   ]
  },
  {
   "cell_type": "markdown",
   "metadata": {},
   "source": [
    "De los 58,703 usuarios, analizaremos solo los de EU que son 43,396"
   ]
  },
  {
   "cell_type": "markdown",
   "metadata": {},
   "source": [
    "### Analisis New events users"
   ]
  },
  {
   "cell_type": "code",
   "execution_count": 10,
   "metadata": {},
   "outputs": [
    {
     "name": "stdout",
     "output_type": "stream",
     "text": [
      "<class 'pandas.core.frame.DataFrame'>\n",
      "RangeIndex: 423761 entries, 0 to 423760\n",
      "Data columns (total 4 columns):\n",
      " #   Column      Non-Null Count   Dtype  \n",
      "---  ------      --------------   -----  \n",
      " 0   user_id     423761 non-null  object \n",
      " 1   event_dt    423761 non-null  object \n",
      " 2   event_name  423761 non-null  object \n",
      " 3   details     60314 non-null   float64\n",
      "dtypes: float64(1), object(3)\n",
      "memory usage: 12.9+ MB\n"
     ]
    }
   ],
   "source": [
    "events_new_users.info()"
   ]
  },
  {
   "cell_type": "code",
   "execution_count": 11,
   "metadata": {},
   "outputs": [],
   "source": [
    "events_new_users['event_dt'] = pd.to_datetime(events_new_users['event_dt'])"
   ]
  },
  {
   "cell_type": "code",
   "execution_count": 12,
   "metadata": {},
   "outputs": [
    {
     "data": {
      "text/html": [
       "<div>\n",
       "<style scoped>\n",
       "    .dataframe tbody tr th:only-of-type {\n",
       "        vertical-align: middle;\n",
       "    }\n",
       "\n",
       "    .dataframe tbody tr th {\n",
       "        vertical-align: top;\n",
       "    }\n",
       "\n",
       "    .dataframe thead th {\n",
       "        text-align: right;\n",
       "    }\n",
       "</style>\n",
       "<table border=\"1\" class=\"dataframe\">\n",
       "  <thead>\n",
       "    <tr style=\"text-align: right;\">\n",
       "      <th></th>\n",
       "      <th>user_id</th>\n",
       "      <th>event_dt</th>\n",
       "      <th>event_name</th>\n",
       "      <th>details</th>\n",
       "    </tr>\n",
       "  </thead>\n",
       "  <tbody>\n",
       "    <tr>\n",
       "      <th>0</th>\n",
       "      <td>E1BDDCE0DAFA2679</td>\n",
       "      <td>2020-12-07 20:22:03</td>\n",
       "      <td>purchase</td>\n",
       "      <td>99.99</td>\n",
       "    </tr>\n",
       "    <tr>\n",
       "      <th>1</th>\n",
       "      <td>7B6452F081F49504</td>\n",
       "      <td>2020-12-07 09:22:53</td>\n",
       "      <td>purchase</td>\n",
       "      <td>9.99</td>\n",
       "    </tr>\n",
       "    <tr>\n",
       "      <th>2</th>\n",
       "      <td>9CD9F34546DF254C</td>\n",
       "      <td>2020-12-07 12:59:29</td>\n",
       "      <td>purchase</td>\n",
       "      <td>4.99</td>\n",
       "    </tr>\n",
       "    <tr>\n",
       "      <th>3</th>\n",
       "      <td>96F27A054B191457</td>\n",
       "      <td>2020-12-07 04:02:40</td>\n",
       "      <td>purchase</td>\n",
       "      <td>4.99</td>\n",
       "    </tr>\n",
       "    <tr>\n",
       "      <th>4</th>\n",
       "      <td>1FD7660FDF94CA1F</td>\n",
       "      <td>2020-12-07 10:15:09</td>\n",
       "      <td>purchase</td>\n",
       "      <td>4.99</td>\n",
       "    </tr>\n",
       "    <tr>\n",
       "      <th>...</th>\n",
       "      <td>...</td>\n",
       "      <td>...</td>\n",
       "      <td>...</td>\n",
       "      <td>...</td>\n",
       "    </tr>\n",
       "    <tr>\n",
       "      <th>423756</th>\n",
       "      <td>245E85F65C358E08</td>\n",
       "      <td>2020-12-30 19:35:55</td>\n",
       "      <td>login</td>\n",
       "      <td>NaN</td>\n",
       "    </tr>\n",
       "    <tr>\n",
       "      <th>423757</th>\n",
       "      <td>9385A108F5A0A7A7</td>\n",
       "      <td>2020-12-30 10:54:15</td>\n",
       "      <td>login</td>\n",
       "      <td>NaN</td>\n",
       "    </tr>\n",
       "    <tr>\n",
       "      <th>423758</th>\n",
       "      <td>DB650B7559AC6EAC</td>\n",
       "      <td>2020-12-30 10:59:09</td>\n",
       "      <td>login</td>\n",
       "      <td>NaN</td>\n",
       "    </tr>\n",
       "    <tr>\n",
       "      <th>423759</th>\n",
       "      <td>F80C9BDDEA02E53C</td>\n",
       "      <td>2020-12-30 09:53:39</td>\n",
       "      <td>login</td>\n",
       "      <td>NaN</td>\n",
       "    </tr>\n",
       "    <tr>\n",
       "      <th>423760</th>\n",
       "      <td>7AEC61159B672CC5</td>\n",
       "      <td>2020-12-30 11:36:13</td>\n",
       "      <td>login</td>\n",
       "      <td>NaN</td>\n",
       "    </tr>\n",
       "  </tbody>\n",
       "</table>\n",
       "<p>423761 rows × 4 columns</p>\n",
       "</div>"
      ],
      "text/plain": [
       "                 user_id            event_dt event_name  details\n",
       "0       E1BDDCE0DAFA2679 2020-12-07 20:22:03   purchase    99.99\n",
       "1       7B6452F081F49504 2020-12-07 09:22:53   purchase     9.99\n",
       "2       9CD9F34546DF254C 2020-12-07 12:59:29   purchase     4.99\n",
       "3       96F27A054B191457 2020-12-07 04:02:40   purchase     4.99\n",
       "4       1FD7660FDF94CA1F 2020-12-07 10:15:09   purchase     4.99\n",
       "...                  ...                 ...        ...      ...\n",
       "423756  245E85F65C358E08 2020-12-30 19:35:55      login      NaN\n",
       "423757  9385A108F5A0A7A7 2020-12-30 10:54:15      login      NaN\n",
       "423758  DB650B7559AC6EAC 2020-12-30 10:59:09      login      NaN\n",
       "423759  F80C9BDDEA02E53C 2020-12-30 09:53:39      login      NaN\n",
       "423760  7AEC61159B672CC5 2020-12-30 11:36:13      login      NaN\n",
       "\n",
       "[423761 rows x 4 columns]"
      ]
     },
     "metadata": {},
     "output_type": "display_data"
    }
   ],
   "source": [
    "display(events_new_users)"
   ]
  },
  {
   "cell_type": "markdown",
   "metadata": {},
   "source": [
    "### Analisis AB_test_data"
   ]
  },
  {
   "cell_type": "code",
   "execution_count": 13,
   "metadata": {},
   "outputs": [
    {
     "name": "stdout",
     "output_type": "stream",
     "text": [
      "<class 'pandas.core.frame.DataFrame'>\n",
      "RangeIndex: 14525 entries, 0 to 14524\n",
      "Data columns (total 3 columns):\n",
      " #   Column   Non-Null Count  Dtype \n",
      "---  ------   --------------  ----- \n",
      " 0   user_id  14525 non-null  object\n",
      " 1   group    14525 non-null  object\n",
      " 2   ab_test  14525 non-null  object\n",
      "dtypes: object(3)\n",
      "memory usage: 340.6+ KB\n"
     ]
    }
   ],
   "source": [
    "ab_test_data.info()"
   ]
  },
  {
   "cell_type": "code",
   "execution_count": 14,
   "metadata": {},
   "outputs": [
    {
     "data": {
      "text/html": [
       "<div>\n",
       "<style scoped>\n",
       "    .dataframe tbody tr th:only-of-type {\n",
       "        vertical-align: middle;\n",
       "    }\n",
       "\n",
       "    .dataframe tbody tr th {\n",
       "        vertical-align: top;\n",
       "    }\n",
       "\n",
       "    .dataframe thead th {\n",
       "        text-align: right;\n",
       "    }\n",
       "</style>\n",
       "<table border=\"1\" class=\"dataframe\">\n",
       "  <thead>\n",
       "    <tr style=\"text-align: right;\">\n",
       "      <th></th>\n",
       "      <th>user_id</th>\n",
       "      <th>group</th>\n",
       "      <th>ab_test</th>\n",
       "    </tr>\n",
       "  </thead>\n",
       "  <tbody>\n",
       "    <tr>\n",
       "      <th>0</th>\n",
       "      <td>D1ABA3E2887B6A73</td>\n",
       "      <td>A</td>\n",
       "      <td>recommender_system_test</td>\n",
       "    </tr>\n",
       "    <tr>\n",
       "      <th>1</th>\n",
       "      <td>A7A3664BD6242119</td>\n",
       "      <td>A</td>\n",
       "      <td>recommender_system_test</td>\n",
       "    </tr>\n",
       "    <tr>\n",
       "      <th>2</th>\n",
       "      <td>DABC14FDDFADD29E</td>\n",
       "      <td>A</td>\n",
       "      <td>recommender_system_test</td>\n",
       "    </tr>\n",
       "    <tr>\n",
       "      <th>3</th>\n",
       "      <td>04988C5DF189632E</td>\n",
       "      <td>A</td>\n",
       "      <td>recommender_system_test</td>\n",
       "    </tr>\n",
       "    <tr>\n",
       "      <th>4</th>\n",
       "      <td>4FF2998A348C484F</td>\n",
       "      <td>A</td>\n",
       "      <td>recommender_system_test</td>\n",
       "    </tr>\n",
       "    <tr>\n",
       "      <th>...</th>\n",
       "      <td>...</td>\n",
       "      <td>...</td>\n",
       "      <td>...</td>\n",
       "    </tr>\n",
       "    <tr>\n",
       "      <th>14520</th>\n",
       "      <td>1D302F8688B91781</td>\n",
       "      <td>B</td>\n",
       "      <td>interface_eu_test</td>\n",
       "    </tr>\n",
       "    <tr>\n",
       "      <th>14521</th>\n",
       "      <td>3DE51B726983B657</td>\n",
       "      <td>A</td>\n",
       "      <td>interface_eu_test</td>\n",
       "    </tr>\n",
       "    <tr>\n",
       "      <th>14522</th>\n",
       "      <td>F501F79D332BE86C</td>\n",
       "      <td>A</td>\n",
       "      <td>interface_eu_test</td>\n",
       "    </tr>\n",
       "    <tr>\n",
       "      <th>14523</th>\n",
       "      <td>63FBE257B05F2245</td>\n",
       "      <td>A</td>\n",
       "      <td>interface_eu_test</td>\n",
       "    </tr>\n",
       "    <tr>\n",
       "      <th>14524</th>\n",
       "      <td>79F9ABFB029CF724</td>\n",
       "      <td>B</td>\n",
       "      <td>interface_eu_test</td>\n",
       "    </tr>\n",
       "  </tbody>\n",
       "</table>\n",
       "<p>14525 rows × 3 columns</p>\n",
       "</div>"
      ],
      "text/plain": [
       "                user_id group                  ab_test\n",
       "0      D1ABA3E2887B6A73     A  recommender_system_test\n",
       "1      A7A3664BD6242119     A  recommender_system_test\n",
       "2      DABC14FDDFADD29E     A  recommender_system_test\n",
       "3      04988C5DF189632E     A  recommender_system_test\n",
       "4      4FF2998A348C484F     A  recommender_system_test\n",
       "...                 ...   ...                      ...\n",
       "14520  1D302F8688B91781     B        interface_eu_test\n",
       "14521  3DE51B726983B657     A        interface_eu_test\n",
       "14522  F501F79D332BE86C     A        interface_eu_test\n",
       "14523  63FBE257B05F2245     A        interface_eu_test\n",
       "14524  79F9ABFB029CF724     B        interface_eu_test\n",
       "\n",
       "[14525 rows x 3 columns]"
      ]
     },
     "metadata": {},
     "output_type": "display_data"
    }
   ],
   "source": [
    "display(ab_test_data)"
   ]
  },
  {
   "cell_type": "markdown",
   "metadata": {},
   "source": [
    "¿Hay alguna peculiaridad en los datos que hay que tener en cuenta antes de iniciar la prueba A/B?\n",
    "\n",
    "Si, tenemos 2 pruebas. 1.-recommender_system_test y 2.- interface_eu_test\n",
    "\n",
    "Solo analizaremos los datos de la prueba 1, por lo que crearemos DF's A y B solo con recommender_system_test"
   ]
  },
  {
   "cell_type": "markdown",
   "metadata": {},
   "source": [
    "### Análisis Exploratorio de Datos"
   ]
  },
  {
   "cell_type": "markdown",
   "metadata": {},
   "source": [
    "Filtratemos events_new_users con el df de los usuarios only_eu para tener un df de eventos SOLO de usuarios de EU"
   ]
  },
  {
   "cell_type": "code",
   "execution_count": 15,
   "metadata": {},
   "outputs": [],
   "source": [
    "#Generar df de los eventos SOLO con usuarios de EU.\n",
    "eu_events_new_users = pd.merge(only_eu[['user_id']],events_new_users,on='user_id',how= 'inner')"
   ]
  },
  {
   "cell_type": "code",
   "execution_count": 16,
   "metadata": {},
   "outputs": [
    {
     "data": {
      "text/html": [
       "<div>\n",
       "<style scoped>\n",
       "    .dataframe tbody tr th:only-of-type {\n",
       "        vertical-align: middle;\n",
       "    }\n",
       "\n",
       "    .dataframe tbody tr th {\n",
       "        vertical-align: top;\n",
       "    }\n",
       "\n",
       "    .dataframe thead th {\n",
       "        text-align: right;\n",
       "    }\n",
       "</style>\n",
       "<table border=\"1\" class=\"dataframe\">\n",
       "  <thead>\n",
       "    <tr style=\"text-align: right;\">\n",
       "      <th></th>\n",
       "      <th>user_id</th>\n",
       "      <th>event_dt</th>\n",
       "      <th>event_name</th>\n",
       "      <th>details</th>\n",
       "    </tr>\n",
       "  </thead>\n",
       "  <tbody>\n",
       "    <tr>\n",
       "      <th>0</th>\n",
       "      <td>D72A72121175D8BE</td>\n",
       "      <td>2020-12-07 21:52:10</td>\n",
       "      <td>product_page</td>\n",
       "      <td>NaN</td>\n",
       "    </tr>\n",
       "    <tr>\n",
       "      <th>1</th>\n",
       "      <td>D72A72121175D8BE</td>\n",
       "      <td>2020-12-07 21:52:07</td>\n",
       "      <td>login</td>\n",
       "      <td>NaN</td>\n",
       "    </tr>\n",
       "    <tr>\n",
       "      <th>2</th>\n",
       "      <td>2E1BF1D4C37EA01F</td>\n",
       "      <td>2020-12-07 09:05:47</td>\n",
       "      <td>product_cart</td>\n",
       "      <td>NaN</td>\n",
       "    </tr>\n",
       "    <tr>\n",
       "      <th>3</th>\n",
       "      <td>2E1BF1D4C37EA01F</td>\n",
       "      <td>2020-12-10 04:13:53</td>\n",
       "      <td>product_cart</td>\n",
       "      <td>NaN</td>\n",
       "    </tr>\n",
       "    <tr>\n",
       "      <th>4</th>\n",
       "      <td>2E1BF1D4C37EA01F</td>\n",
       "      <td>2020-12-12 17:54:57</td>\n",
       "      <td>product_cart</td>\n",
       "      <td>NaN</td>\n",
       "    </tr>\n",
       "    <tr>\n",
       "      <th>...</th>\n",
       "      <td>...</td>\n",
       "      <td>...</td>\n",
       "      <td>...</td>\n",
       "      <td>...</td>\n",
       "    </tr>\n",
       "    <tr>\n",
       "      <th>314772</th>\n",
       "      <td>1C7D23927835213F</td>\n",
       "      <td>2020-12-21 04:31:15</td>\n",
       "      <td>login</td>\n",
       "      <td>NaN</td>\n",
       "    </tr>\n",
       "    <tr>\n",
       "      <th>314773</th>\n",
       "      <td>1C7D23927835213F</td>\n",
       "      <td>2020-12-23 15:47:23</td>\n",
       "      <td>login</td>\n",
       "      <td>NaN</td>\n",
       "    </tr>\n",
       "    <tr>\n",
       "      <th>314774</th>\n",
       "      <td>1C7D23927835213F</td>\n",
       "      <td>2020-12-27 03:51:35</td>\n",
       "      <td>login</td>\n",
       "      <td>NaN</td>\n",
       "    </tr>\n",
       "    <tr>\n",
       "      <th>314775</th>\n",
       "      <td>8F04273BB2860229</td>\n",
       "      <td>2020-12-20 03:17:17</td>\n",
       "      <td>product_cart</td>\n",
       "      <td>NaN</td>\n",
       "    </tr>\n",
       "    <tr>\n",
       "      <th>314776</th>\n",
       "      <td>8F04273BB2860229</td>\n",
       "      <td>2020-12-20 03:17:17</td>\n",
       "      <td>login</td>\n",
       "      <td>NaN</td>\n",
       "    </tr>\n",
       "  </tbody>\n",
       "</table>\n",
       "<p>314777 rows × 4 columns</p>\n",
       "</div>"
      ],
      "text/plain": [
       "                 user_id            event_dt    event_name  details\n",
       "0       D72A72121175D8BE 2020-12-07 21:52:10  product_page      NaN\n",
       "1       D72A72121175D8BE 2020-12-07 21:52:07         login      NaN\n",
       "2       2E1BF1D4C37EA01F 2020-12-07 09:05:47  product_cart      NaN\n",
       "3       2E1BF1D4C37EA01F 2020-12-10 04:13:53  product_cart      NaN\n",
       "4       2E1BF1D4C37EA01F 2020-12-12 17:54:57  product_cart      NaN\n",
       "...                  ...                 ...           ...      ...\n",
       "314772  1C7D23927835213F 2020-12-21 04:31:15         login      NaN\n",
       "314773  1C7D23927835213F 2020-12-23 15:47:23         login      NaN\n",
       "314774  1C7D23927835213F 2020-12-27 03:51:35         login      NaN\n",
       "314775  8F04273BB2860229 2020-12-20 03:17:17  product_cart      NaN\n",
       "314776  8F04273BB2860229 2020-12-20 03:17:17         login      NaN\n",
       "\n",
       "[314777 rows x 4 columns]"
      ]
     },
     "metadata": {},
     "output_type": "display_data"
    }
   ],
   "source": [
    "display(eu_events_new_users)"
   ]
  },
  {
   "cell_type": "markdown",
   "metadata": {},
   "source": [
    "Ya tenemos un DF con 1.- Solo usarios de EU y sus eventos entre el 07 y 01 de Enero.\n",
    "Ahora, debemos ver que usuarios son la prueba A y cuales de la prueba B."
   ]
  },
  {
   "cell_type": "code",
   "execution_count": 17,
   "metadata": {},
   "outputs": [
    {
     "data": {
      "text/html": [
       "<div>\n",
       "<style scoped>\n",
       "    .dataframe tbody tr th:only-of-type {\n",
       "        vertical-align: middle;\n",
       "    }\n",
       "\n",
       "    .dataframe tbody tr th {\n",
       "        vertical-align: top;\n",
       "    }\n",
       "\n",
       "    .dataframe thead th {\n",
       "        text-align: right;\n",
       "    }\n",
       "</style>\n",
       "<table border=\"1\" class=\"dataframe\">\n",
       "  <thead>\n",
       "    <tr style=\"text-align: right;\">\n",
       "      <th></th>\n",
       "      <th>user_id</th>\n",
       "      <th>group</th>\n",
       "      <th>ab_test</th>\n",
       "    </tr>\n",
       "  </thead>\n",
       "  <tbody>\n",
       "    <tr>\n",
       "      <th>0</th>\n",
       "      <td>D1ABA3E2887B6A73</td>\n",
       "      <td>A</td>\n",
       "      <td>recommender_system_test</td>\n",
       "    </tr>\n",
       "    <tr>\n",
       "      <th>1</th>\n",
       "      <td>A7A3664BD6242119</td>\n",
       "      <td>A</td>\n",
       "      <td>recommender_system_test</td>\n",
       "    </tr>\n",
       "    <tr>\n",
       "      <th>2</th>\n",
       "      <td>DABC14FDDFADD29E</td>\n",
       "      <td>A</td>\n",
       "      <td>recommender_system_test</td>\n",
       "    </tr>\n",
       "    <tr>\n",
       "      <th>3</th>\n",
       "      <td>04988C5DF189632E</td>\n",
       "      <td>A</td>\n",
       "      <td>recommender_system_test</td>\n",
       "    </tr>\n",
       "    <tr>\n",
       "      <th>4</th>\n",
       "      <td>4FF2998A348C484F</td>\n",
       "      <td>A</td>\n",
       "      <td>recommender_system_test</td>\n",
       "    </tr>\n",
       "    <tr>\n",
       "      <th>...</th>\n",
       "      <td>...</td>\n",
       "      <td>...</td>\n",
       "      <td>...</td>\n",
       "    </tr>\n",
       "    <tr>\n",
       "      <th>2742</th>\n",
       "      <td>15E18335C5DB30C9</td>\n",
       "      <td>A</td>\n",
       "      <td>recommender_system_test</td>\n",
       "    </tr>\n",
       "    <tr>\n",
       "      <th>2743</th>\n",
       "      <td>CA6994E92085D1C5</td>\n",
       "      <td>A</td>\n",
       "      <td>recommender_system_test</td>\n",
       "    </tr>\n",
       "    <tr>\n",
       "      <th>2744</th>\n",
       "      <td>94786EB776B45914</td>\n",
       "      <td>A</td>\n",
       "      <td>recommender_system_test</td>\n",
       "    </tr>\n",
       "    <tr>\n",
       "      <th>2745</th>\n",
       "      <td>053FB26D6D49EDDC</td>\n",
       "      <td>A</td>\n",
       "      <td>recommender_system_test</td>\n",
       "    </tr>\n",
       "    <tr>\n",
       "      <th>2746</th>\n",
       "      <td>F2FBBA33F37DEC46</td>\n",
       "      <td>A</td>\n",
       "      <td>recommender_system_test</td>\n",
       "    </tr>\n",
       "  </tbody>\n",
       "</table>\n",
       "<p>2747 rows × 3 columns</p>\n",
       "</div>"
      ],
      "text/plain": [
       "               user_id group                  ab_test\n",
       "0     D1ABA3E2887B6A73     A  recommender_system_test\n",
       "1     A7A3664BD6242119     A  recommender_system_test\n",
       "2     DABC14FDDFADD29E     A  recommender_system_test\n",
       "3     04988C5DF189632E     A  recommender_system_test\n",
       "4     4FF2998A348C484F     A  recommender_system_test\n",
       "...                ...   ...                      ...\n",
       "2742  15E18335C5DB30C9     A  recommender_system_test\n",
       "2743  CA6994E92085D1C5     A  recommender_system_test\n",
       "2744  94786EB776B45914     A  recommender_system_test\n",
       "2745  053FB26D6D49EDDC     A  recommender_system_test\n",
       "2746  F2FBBA33F37DEC46     A  recommender_system_test\n",
       "\n",
       "[2747 rows x 3 columns]"
      ]
     },
     "metadata": {},
     "output_type": "display_data"
    },
    {
     "name": "stdout",
     "output_type": "stream",
     "text": [
      "usuarios duplicados en a 0\n"
     ]
    }
   ],
   "source": [
    "#filtrar df ab_test_data solo con grupo A.\n",
    "only_a = ab_test_data[ab_test_data['group'] == 'A'].reset_index()  \n",
    "#Eliminar index\n",
    "only_a = only_a.drop(columns='index')                               \n",
    "#Filtrar grupo A solo con usuarios de la prueba 'recommender...'\n",
    "only_a = only_a[only_a['ab_test'] == 'recommender_system_test'].reset_index()\n",
    "#Eliminar index\n",
    "only_a = only_a.drop(columns='index')\n",
    "#mostrar el df del grupo A y prueba 'recommender'\n",
    "display(only_a)\n",
    "a = only_a['user_id'].duplicated().sum()\n",
    "print('usuarios duplicados en a',a)"
   ]
  },
  {
   "cell_type": "code",
   "execution_count": 18,
   "metadata": {},
   "outputs": [
    {
     "data": {
      "text/html": [
       "<div>\n",
       "<style scoped>\n",
       "    .dataframe tbody tr th:only-of-type {\n",
       "        vertical-align: middle;\n",
       "    }\n",
       "\n",
       "    .dataframe tbody tr th {\n",
       "        vertical-align: top;\n",
       "    }\n",
       "\n",
       "    .dataframe thead th {\n",
       "        text-align: right;\n",
       "    }\n",
       "</style>\n",
       "<table border=\"1\" class=\"dataframe\">\n",
       "  <thead>\n",
       "    <tr style=\"text-align: right;\">\n",
       "      <th></th>\n",
       "      <th>user_id</th>\n",
       "      <th>group</th>\n",
       "      <th>ab_test</th>\n",
       "    </tr>\n",
       "  </thead>\n",
       "  <tbody>\n",
       "    <tr>\n",
       "      <th>0</th>\n",
       "      <td>CD74C3D22FFC09C2</td>\n",
       "      <td>B</td>\n",
       "      <td>recommender_system_test</td>\n",
       "    </tr>\n",
       "    <tr>\n",
       "      <th>1</th>\n",
       "      <td>50AA023EF325BCA1</td>\n",
       "      <td>B</td>\n",
       "      <td>recommender_system_test</td>\n",
       "    </tr>\n",
       "    <tr>\n",
       "      <th>2</th>\n",
       "      <td>EAFB9027A27D510C</td>\n",
       "      <td>B</td>\n",
       "      <td>recommender_system_test</td>\n",
       "    </tr>\n",
       "    <tr>\n",
       "      <th>3</th>\n",
       "      <td>5D5E6EE92AF6E9E0</td>\n",
       "      <td>B</td>\n",
       "      <td>recommender_system_test</td>\n",
       "    </tr>\n",
       "    <tr>\n",
       "      <th>4</th>\n",
       "      <td>52E7B7DC39F52987</td>\n",
       "      <td>B</td>\n",
       "      <td>recommender_system_test</td>\n",
       "    </tr>\n",
       "    <tr>\n",
       "      <th>...</th>\n",
       "      <td>...</td>\n",
       "      <td>...</td>\n",
       "      <td>...</td>\n",
       "    </tr>\n",
       "    <tr>\n",
       "      <th>923</th>\n",
       "      <td>1E6B9298415AA97A</td>\n",
       "      <td>B</td>\n",
       "      <td>recommender_system_test</td>\n",
       "    </tr>\n",
       "    <tr>\n",
       "      <th>924</th>\n",
       "      <td>6DC46FD66C7F126B</td>\n",
       "      <td>B</td>\n",
       "      <td>recommender_system_test</td>\n",
       "    </tr>\n",
       "    <tr>\n",
       "      <th>925</th>\n",
       "      <td>9D263B8EF15CF188</td>\n",
       "      <td>B</td>\n",
       "      <td>recommender_system_test</td>\n",
       "    </tr>\n",
       "    <tr>\n",
       "      <th>926</th>\n",
       "      <td>29C92313A98B1176</td>\n",
       "      <td>B</td>\n",
       "      <td>recommender_system_test</td>\n",
       "    </tr>\n",
       "    <tr>\n",
       "      <th>927</th>\n",
       "      <td>6715343AFBA285AE</td>\n",
       "      <td>B</td>\n",
       "      <td>recommender_system_test</td>\n",
       "    </tr>\n",
       "  </tbody>\n",
       "</table>\n",
       "<p>928 rows × 3 columns</p>\n",
       "</div>"
      ],
      "text/plain": [
       "              user_id group                  ab_test\n",
       "0    CD74C3D22FFC09C2     B  recommender_system_test\n",
       "1    50AA023EF325BCA1     B  recommender_system_test\n",
       "2    EAFB9027A27D510C     B  recommender_system_test\n",
       "3    5D5E6EE92AF6E9E0     B  recommender_system_test\n",
       "4    52E7B7DC39F52987     B  recommender_system_test\n",
       "..                ...   ...                      ...\n",
       "923  1E6B9298415AA97A     B  recommender_system_test\n",
       "924  6DC46FD66C7F126B     B  recommender_system_test\n",
       "925  9D263B8EF15CF188     B  recommender_system_test\n",
       "926  29C92313A98B1176     B  recommender_system_test\n",
       "927  6715343AFBA285AE     B  recommender_system_test\n",
       "\n",
       "[928 rows x 3 columns]"
      ]
     },
     "metadata": {},
     "output_type": "display_data"
    },
    {
     "name": "stdout",
     "output_type": "stream",
     "text": [
      "usuarios duplicados en b 0\n"
     ]
    }
   ],
   "source": [
    "only_b = ab_test_data[ab_test_data['group'] == 'B' ].reset_index()\n",
    "only_b = only_b.drop(columns='index')\n",
    "only_b = only_b[only_b['ab_test'] == 'recommender_system_test'].reset_index()\n",
    "only_b = only_b.drop(columns='index')\n",
    "display(only_b)\n",
    "b= only_b.duplicated().sum()\n",
    "print('usuarios duplicados en b',b)"
   ]
  },
  {
   "cell_type": "markdown",
   "metadata": {},
   "source": [
    "No tenemos usuarios duplicados, ahora veremos sus eventos del 07 de diciembre al 01 de enero."
   ]
  },
  {
   "cell_type": "code",
   "execution_count": 19,
   "metadata": {},
   "outputs": [
    {
     "data": {
      "text/html": [
       "<div>\n",
       "<style scoped>\n",
       "    .dataframe tbody tr th:only-of-type {\n",
       "        vertical-align: middle;\n",
       "    }\n",
       "\n",
       "    .dataframe tbody tr th {\n",
       "        vertical-align: top;\n",
       "    }\n",
       "\n",
       "    .dataframe thead th {\n",
       "        text-align: right;\n",
       "    }\n",
       "</style>\n",
       "<table border=\"1\" class=\"dataframe\">\n",
       "  <thead>\n",
       "    <tr style=\"text-align: right;\">\n",
       "      <th></th>\n",
       "      <th>user_id</th>\n",
       "      <th>event_dt</th>\n",
       "      <th>event_name</th>\n",
       "      <th>details</th>\n",
       "    </tr>\n",
       "  </thead>\n",
       "  <tbody>\n",
       "    <tr>\n",
       "      <th>0</th>\n",
       "      <td>D1ABA3E2887B6A73</td>\n",
       "      <td>2020-12-07 14:43:27</td>\n",
       "      <td>purchase</td>\n",
       "      <td>99.99</td>\n",
       "    </tr>\n",
       "    <tr>\n",
       "      <th>1</th>\n",
       "      <td>D1ABA3E2887B6A73</td>\n",
       "      <td>2020-12-07 14:43:29</td>\n",
       "      <td>product_cart</td>\n",
       "      <td>NaN</td>\n",
       "    </tr>\n",
       "    <tr>\n",
       "      <th>2</th>\n",
       "      <td>D1ABA3E2887B6A73</td>\n",
       "      <td>2020-12-07 14:43:27</td>\n",
       "      <td>product_page</td>\n",
       "      <td>NaN</td>\n",
       "    </tr>\n",
       "    <tr>\n",
       "      <th>3</th>\n",
       "      <td>D1ABA3E2887B6A73</td>\n",
       "      <td>2020-12-07 14:43:27</td>\n",
       "      <td>login</td>\n",
       "      <td>NaN</td>\n",
       "    </tr>\n",
       "    <tr>\n",
       "      <th>4</th>\n",
       "      <td>A7A3664BD6242119</td>\n",
       "      <td>2020-12-20 15:46:06</td>\n",
       "      <td>product_page</td>\n",
       "      <td>NaN</td>\n",
       "    </tr>\n",
       "    <tr>\n",
       "      <th>...</th>\n",
       "      <td>...</td>\n",
       "      <td>...</td>\n",
       "      <td>...</td>\n",
       "      <td>...</td>\n",
       "    </tr>\n",
       "    <tr>\n",
       "      <th>17665</th>\n",
       "      <td>80712ED4EA1B52A5</td>\n",
       "      <td>2020-12-15 20:10:06</td>\n",
       "      <td>product_page</td>\n",
       "      <td>NaN</td>\n",
       "    </tr>\n",
       "    <tr>\n",
       "      <th>17666</th>\n",
       "      <td>80712ED4EA1B52A5</td>\n",
       "      <td>2020-12-20 20:01:34</td>\n",
       "      <td>product_page</td>\n",
       "      <td>NaN</td>\n",
       "    </tr>\n",
       "    <tr>\n",
       "      <th>17667</th>\n",
       "      <td>80712ED4EA1B52A5</td>\n",
       "      <td>2020-12-14 05:48:50</td>\n",
       "      <td>login</td>\n",
       "      <td>NaN</td>\n",
       "    </tr>\n",
       "    <tr>\n",
       "      <th>17668</th>\n",
       "      <td>80712ED4EA1B52A5</td>\n",
       "      <td>2020-12-15 20:10:03</td>\n",
       "      <td>login</td>\n",
       "      <td>NaN</td>\n",
       "    </tr>\n",
       "    <tr>\n",
       "      <th>17669</th>\n",
       "      <td>80712ED4EA1B52A5</td>\n",
       "      <td>2020-12-20 20:01:32</td>\n",
       "      <td>login</td>\n",
       "      <td>NaN</td>\n",
       "    </tr>\n",
       "  </tbody>\n",
       "</table>\n",
       "<p>17670 rows × 4 columns</p>\n",
       "</div>"
      ],
      "text/plain": [
       "                user_id            event_dt    event_name  details\n",
       "0      D1ABA3E2887B6A73 2020-12-07 14:43:27      purchase    99.99\n",
       "1      D1ABA3E2887B6A73 2020-12-07 14:43:29  product_cart      NaN\n",
       "2      D1ABA3E2887B6A73 2020-12-07 14:43:27  product_page      NaN\n",
       "3      D1ABA3E2887B6A73 2020-12-07 14:43:27         login      NaN\n",
       "4      A7A3664BD6242119 2020-12-20 15:46:06  product_page      NaN\n",
       "...                 ...                 ...           ...      ...\n",
       "17665  80712ED4EA1B52A5 2020-12-15 20:10:06  product_page      NaN\n",
       "17666  80712ED4EA1B52A5 2020-12-20 20:01:34  product_page      NaN\n",
       "17667  80712ED4EA1B52A5 2020-12-14 05:48:50         login      NaN\n",
       "17668  80712ED4EA1B52A5 2020-12-15 20:10:03         login      NaN\n",
       "17669  80712ED4EA1B52A5 2020-12-20 20:01:32         login      NaN\n",
       "\n",
       "[17670 rows x 4 columns]"
      ]
     },
     "execution_count": 19,
     "metadata": {},
     "output_type": "execute_result"
    }
   ],
   "source": [
    "#generar DF solo con usuarios de EU del grupo A.\n",
    "events_a = pd.merge(only_a[['user_id']], eu_events_new_users, on='user_id', how='inner')\n",
    "events_a"
   ]
  },
  {
   "cell_type": "code",
   "execution_count": 20,
   "metadata": {},
   "outputs": [
    {
     "data": {
      "text/plain": [
       "count                            17670\n",
       "mean     2020-12-19 07:54:20.527447808\n",
       "min                2020-12-07 00:14:01\n",
       "25%      2020-12-16 00:38:14.249999872\n",
       "50%                2020-12-19 16:16:30\n",
       "75%         2020-12-22 13:08:48.500000\n",
       "max                2020-12-29 23:38:29\n",
       "Name: event_dt, dtype: object"
      ]
     },
     "execution_count": 20,
     "metadata": {},
     "output_type": "execute_result"
    }
   ],
   "source": [
    "desc_a = events_a['event_dt'].describe()\n",
    "desc_a"
   ]
  },
  {
   "cell_type": "code",
   "execution_count": 21,
   "metadata": {},
   "outputs": [
    {
     "data": {
      "text/html": [
       "<div>\n",
       "<style scoped>\n",
       "    .dataframe tbody tr th:only-of-type {\n",
       "        vertical-align: middle;\n",
       "    }\n",
       "\n",
       "    .dataframe tbody tr th {\n",
       "        vertical-align: top;\n",
       "    }\n",
       "\n",
       "    .dataframe thead th {\n",
       "        text-align: right;\n",
       "    }\n",
       "</style>\n",
       "<table border=\"1\" class=\"dataframe\">\n",
       "  <thead>\n",
       "    <tr style=\"text-align: right;\">\n",
       "      <th></th>\n",
       "      <th>user_id</th>\n",
       "      <th>event_dt</th>\n",
       "      <th>event_name</th>\n",
       "      <th>details</th>\n",
       "    </tr>\n",
       "  </thead>\n",
       "  <tbody>\n",
       "    <tr>\n",
       "      <th>0</th>\n",
       "      <td>CD74C3D22FFC09C2</td>\n",
       "      <td>2020-12-21 14:10:54</td>\n",
       "      <td>product_page</td>\n",
       "      <td>NaN</td>\n",
       "    </tr>\n",
       "    <tr>\n",
       "      <th>1</th>\n",
       "      <td>CD74C3D22FFC09C2</td>\n",
       "      <td>2020-12-22 11:22:05</td>\n",
       "      <td>product_page</td>\n",
       "      <td>NaN</td>\n",
       "    </tr>\n",
       "    <tr>\n",
       "      <th>2</th>\n",
       "      <td>CD74C3D22FFC09C2</td>\n",
       "      <td>2020-12-28 18:43:12</td>\n",
       "      <td>product_page</td>\n",
       "      <td>NaN</td>\n",
       "    </tr>\n",
       "    <tr>\n",
       "      <th>3</th>\n",
       "      <td>CD74C3D22FFC09C2</td>\n",
       "      <td>2020-12-21 14:10:51</td>\n",
       "      <td>login</td>\n",
       "      <td>NaN</td>\n",
       "    </tr>\n",
       "    <tr>\n",
       "      <th>4</th>\n",
       "      <td>CD74C3D22FFC09C2</td>\n",
       "      <td>2020-12-22 11:22:03</td>\n",
       "      <td>login</td>\n",
       "      <td>NaN</td>\n",
       "    </tr>\n",
       "    <tr>\n",
       "      <th>...</th>\n",
       "      <td>...</td>\n",
       "      <td>...</td>\n",
       "      <td>...</td>\n",
       "      <td>...</td>\n",
       "    </tr>\n",
       "    <tr>\n",
       "      <th>4999</th>\n",
       "      <td>91C3969B8A72B908</td>\n",
       "      <td>2020-12-09 10:28:33</td>\n",
       "      <td>product_page</td>\n",
       "      <td>NaN</td>\n",
       "    </tr>\n",
       "    <tr>\n",
       "      <th>5000</th>\n",
       "      <td>91C3969B8A72B908</td>\n",
       "      <td>2020-12-19 21:29:18</td>\n",
       "      <td>product_page</td>\n",
       "      <td>NaN</td>\n",
       "    </tr>\n",
       "    <tr>\n",
       "      <th>5001</th>\n",
       "      <td>91C3969B8A72B908</td>\n",
       "      <td>2020-12-09 10:28:33</td>\n",
       "      <td>login</td>\n",
       "      <td>NaN</td>\n",
       "    </tr>\n",
       "    <tr>\n",
       "      <th>5002</th>\n",
       "      <td>91C3969B8A72B908</td>\n",
       "      <td>2020-12-19 21:29:15</td>\n",
       "      <td>login</td>\n",
       "      <td>NaN</td>\n",
       "    </tr>\n",
       "    <tr>\n",
       "      <th>5003</th>\n",
       "      <td>95401934D6D6D4FC</td>\n",
       "      <td>2020-12-13 09:55:48</td>\n",
       "      <td>login</td>\n",
       "      <td>NaN</td>\n",
       "    </tr>\n",
       "  </tbody>\n",
       "</table>\n",
       "<p>5004 rows × 4 columns</p>\n",
       "</div>"
      ],
      "text/plain": [
       "               user_id            event_dt    event_name  details\n",
       "0     CD74C3D22FFC09C2 2020-12-21 14:10:54  product_page      NaN\n",
       "1     CD74C3D22FFC09C2 2020-12-22 11:22:05  product_page      NaN\n",
       "2     CD74C3D22FFC09C2 2020-12-28 18:43:12  product_page      NaN\n",
       "3     CD74C3D22FFC09C2 2020-12-21 14:10:51         login      NaN\n",
       "4     CD74C3D22FFC09C2 2020-12-22 11:22:03         login      NaN\n",
       "...                ...                 ...           ...      ...\n",
       "4999  91C3969B8A72B908 2020-12-09 10:28:33  product_page      NaN\n",
       "5000  91C3969B8A72B908 2020-12-19 21:29:18  product_page      NaN\n",
       "5001  91C3969B8A72B908 2020-12-09 10:28:33         login      NaN\n",
       "5002  91C3969B8A72B908 2020-12-19 21:29:15         login      NaN\n",
       "5003  95401934D6D6D4FC 2020-12-13 09:55:48         login      NaN\n",
       "\n",
       "[5004 rows x 4 columns]"
      ]
     },
     "execution_count": 21,
     "metadata": {},
     "output_type": "execute_result"
    }
   ],
   "source": [
    "#generar DF solo con usuarios de EU en el grupo B\n",
    "events_b = pd.merge(only_b[['user_id']], eu_events_new_users,on='user_id',how='inner')\n",
    "events_b"
   ]
  },
  {
   "cell_type": "code",
   "execution_count": 22,
   "metadata": {},
   "outputs": [
    {
     "data": {
      "text/plain": [
       "count                             5004\n",
       "mean     2020-12-16 18:20:39.735811328\n",
       "min                2020-12-07 00:05:57\n",
       "25%                2020-12-11 10:06:37\n",
       "50%                2020-12-16 20:38:12\n",
       "75%                2020-12-21 04:30:56\n",
       "max                2020-12-30 12:42:57\n",
       "Name: event_dt, dtype: object"
      ]
     },
     "execution_count": 22,
     "metadata": {},
     "output_type": "execute_result"
    }
   ],
   "source": [
    "desc_b = events_b['event_dt'].describe()\n",
    "desc_b"
   ]
  },
  {
   "cell_type": "markdown",
   "metadata": {},
   "source": [
    "### EMBUDO"
   ]
  },
  {
   "cell_type": "code",
   "execution_count": 23,
   "metadata": {},
   "outputs": [
    {
     "data": {
      "text/html": [
       "<div>\n",
       "<style scoped>\n",
       "    .dataframe tbody tr th:only-of-type {\n",
       "        vertical-align: middle;\n",
       "    }\n",
       "\n",
       "    .dataframe tbody tr th {\n",
       "        vertical-align: top;\n",
       "    }\n",
       "\n",
       "    .dataframe thead th {\n",
       "        text-align: right;\n",
       "    }\n",
       "</style>\n",
       "<table border=\"1\" class=\"dataframe\">\n",
       "  <thead>\n",
       "    <tr style=\"text-align: right;\">\n",
       "      <th></th>\n",
       "      <th>event_name</th>\n",
       "      <th>user_id</th>\n",
       "    </tr>\n",
       "  </thead>\n",
       "  <tbody>\n",
       "    <tr>\n",
       "      <th>0</th>\n",
       "      <td>login</td>\n",
       "      <td>7846</td>\n",
       "    </tr>\n",
       "    <tr>\n",
       "      <th>2</th>\n",
       "      <td>product_page</td>\n",
       "      <td>5043</td>\n",
       "    </tr>\n",
       "    <tr>\n",
       "      <th>3</th>\n",
       "      <td>purchase</td>\n",
       "      <td>2430</td>\n",
       "    </tr>\n",
       "    <tr>\n",
       "      <th>1</th>\n",
       "      <td>product_cart</td>\n",
       "      <td>2351</td>\n",
       "    </tr>\n",
       "  </tbody>\n",
       "</table>\n",
       "</div>"
      ],
      "text/plain": [
       "     event_name  user_id\n",
       "0         login     7846\n",
       "2  product_page     5043\n",
       "3      purchase     2430\n",
       "1  product_cart     2351"
      ]
     },
     "execution_count": 23,
     "metadata": {},
     "output_type": "execute_result"
    }
   ],
   "source": [
    "#embudo grupo A\n",
    "embudo_a = events_a.groupby('event_name')['user_id'].count()\n",
    "embudo_a = embudo_a.reset_index()\n",
    "embudo_a = embudo_a.sort_values(by='user_id',ascending=False)\n",
    "\n",
    "embudo_a"
   ]
  },
  {
   "cell_type": "code",
   "execution_count": 24,
   "metadata": {},
   "outputs": [
    {
     "name": "stdout",
     "output_type": "stream",
     "text": [
      "Tenemos 79 Purchase más que Product_cart, los mantendremos para el análisis\n"
     ]
    }
   ],
   "source": [
    "#¿porque tengo más purchase que product cart?\n",
    "a_dup = events_a.duplicated().sum()\n",
    "a_dup\n",
    "print('Tenemos 79 Purchase más que Product_cart, los mantendremos para el análisis')"
   ]
  },
  {
   "cell_type": "code",
   "execution_count": 25,
   "metadata": {},
   "outputs": [
    {
     "name": "stdout",
     "output_type": "stream",
     "text": [
      "tasas de conversión del grupo A\n"
     ]
    }
   ],
   "source": [
    "print('tasas de conversión del grupo A')\n",
    "\n",
    "login = 7846\n",
    "product_page = 5043\n",
    "purchase = 2430\n",
    "product_cart = 2351\n",
    "\n",
    "log_to_page = (product_page / login)*100\n",
    "log_to_page = np.round(log_to_page,2)\n",
    "page_to_cart = (product_cart/product_page)*100\n",
    "page_to_cart\n",
    "cart_to_purchase = ( purchase / product_cart )*100\n",
    "cart_to_purchase\n",
    "\n",
    "tasa_conv = [100, log_to_page, page_to_cart,cart_to_purchase ]"
   ]
  },
  {
   "cell_type": "code",
   "execution_count": 26,
   "metadata": {},
   "outputs": [
    {
     "name": "stdout",
     "output_type": "stream",
     "text": [
      "<class 'pandas.core.frame.DataFrame'>\n",
      "Index: 4 entries, 0 to 3\n",
      "Data columns (total 3 columns):\n",
      " #   Column      Non-Null Count  Dtype  \n",
      "---  ------      --------------  -----  \n",
      " 0   event_name  4 non-null      object \n",
      " 1   user_id     4 non-null      int64  \n",
      " 2   tasa_conv   4 non-null      float64\n",
      "dtypes: float64(1), int64(1), object(1)\n",
      "memory usage: 128.0+ bytes\n"
     ]
    }
   ],
   "source": [
    "embudo_a['event_name'] = embudo_a['event_name'].replace('login', '1_login')\n",
    "embudo_a['event_name'] = embudo_a['event_name'].replace('product_page', '2_product_page')\n",
    "embudo_a['event_name'] = embudo_a['event_name'].replace('product_cart', '3_product_cart')\n",
    "embudo_a['event_name'] = embudo_a['event_name'].replace('purchase', '4_purchase')\n",
    "\n",
    "embudo_a = embudo_a.sort_values(by='event_name')\n",
    "\n",
    "embudo_a['tasa_conv'] = tasa_conv\n",
    "embudo_a\n",
    "embudo_a.info()"
   ]
  },
  {
   "cell_type": "code",
   "execution_count": 27,
   "metadata": {},
   "outputs": [
    {
     "data": {
      "application/vnd.plotly.v1+json": {
       "config": {
        "plotlyServerURL": "https://plot.ly"
       },
       "data": [
        {
         "hovertemplate": "user_id=%{x}<br>event_name=%{y}<br>tasa_conv=%{text}<extra></extra>",
         "legendgroup": "7846",
         "marker": {
          "color": "#636efa"
         },
         "name": "7846",
         "orientation": "h",
         "showlegend": true,
         "text": [
          100
         ],
         "type": "funnel",
         "x": [
          7846
         ],
         "xaxis": "x",
         "y": [
          "1_login"
         ],
         "yaxis": "y"
        },
        {
         "hovertemplate": "user_id=%{x}<br>event_name=%{y}<br>tasa_conv=%{text}<extra></extra>",
         "legendgroup": "5043",
         "marker": {
          "color": "#EF553B"
         },
         "name": "5043",
         "orientation": "h",
         "showlegend": true,
         "text": [
          64.27
         ],
         "type": "funnel",
         "x": [
          5043
         ],
         "xaxis": "x",
         "y": [
          "2_product_page"
         ],
         "yaxis": "y"
        },
        {
         "hovertemplate": "user_id=%{x}<br>event_name=%{y}<br>tasa_conv=%{text}<extra></extra>",
         "legendgroup": "2351",
         "marker": {
          "color": "#00cc96"
         },
         "name": "2351",
         "orientation": "h",
         "showlegend": true,
         "text": [
          46.61907594685703
         ],
         "type": "funnel",
         "x": [
          2351
         ],
         "xaxis": "x",
         "y": [
          "3_product_cart"
         ],
         "yaxis": "y"
        },
        {
         "hovertemplate": "user_id=%{x}<br>event_name=%{y}<br>tasa_conv=%{text}<extra></extra>",
         "legendgroup": "2430",
         "marker": {
          "color": "#ab63fa"
         },
         "name": "2430",
         "orientation": "h",
         "showlegend": true,
         "text": [
          103.36027222458529
         ],
         "type": "funnel",
         "x": [
          2430
         ],
         "xaxis": "x",
         "y": [
          "4_purchase"
         ],
         "yaxis": "y"
        }
       ],
       "layout": {
        "legend": {
         "title": {
          "text": "user_id"
         },
         "tracegroupgap": 0
        },
        "margin": {
         "t": 60
        },
        "template": {
         "data": {
          "bar": [
           {
            "error_x": {
             "color": "#2a3f5f"
            },
            "error_y": {
             "color": "#2a3f5f"
            },
            "marker": {
             "line": {
              "color": "#E5ECF6",
              "width": 0.5
             },
             "pattern": {
              "fillmode": "overlay",
              "size": 10,
              "solidity": 0.2
             }
            },
            "type": "bar"
           }
          ],
          "barpolar": [
           {
            "marker": {
             "line": {
              "color": "#E5ECF6",
              "width": 0.5
             },
             "pattern": {
              "fillmode": "overlay",
              "size": 10,
              "solidity": 0.2
             }
            },
            "type": "barpolar"
           }
          ],
          "carpet": [
           {
            "aaxis": {
             "endlinecolor": "#2a3f5f",
             "gridcolor": "white",
             "linecolor": "white",
             "minorgridcolor": "white",
             "startlinecolor": "#2a3f5f"
            },
            "baxis": {
             "endlinecolor": "#2a3f5f",
             "gridcolor": "white",
             "linecolor": "white",
             "minorgridcolor": "white",
             "startlinecolor": "#2a3f5f"
            },
            "type": "carpet"
           }
          ],
          "choropleth": [
           {
            "colorbar": {
             "outlinewidth": 0,
             "ticks": ""
            },
            "type": "choropleth"
           }
          ],
          "contour": [
           {
            "colorbar": {
             "outlinewidth": 0,
             "ticks": ""
            },
            "colorscale": [
             [
              0,
              "#0d0887"
             ],
             [
              0.1111111111111111,
              "#46039f"
             ],
             [
              0.2222222222222222,
              "#7201a8"
             ],
             [
              0.3333333333333333,
              "#9c179e"
             ],
             [
              0.4444444444444444,
              "#bd3786"
             ],
             [
              0.5555555555555556,
              "#d8576b"
             ],
             [
              0.6666666666666666,
              "#ed7953"
             ],
             [
              0.7777777777777778,
              "#fb9f3a"
             ],
             [
              0.8888888888888888,
              "#fdca26"
             ],
             [
              1,
              "#f0f921"
             ]
            ],
            "type": "contour"
           }
          ],
          "contourcarpet": [
           {
            "colorbar": {
             "outlinewidth": 0,
             "ticks": ""
            },
            "type": "contourcarpet"
           }
          ],
          "heatmap": [
           {
            "colorbar": {
             "outlinewidth": 0,
             "ticks": ""
            },
            "colorscale": [
             [
              0,
              "#0d0887"
             ],
             [
              0.1111111111111111,
              "#46039f"
             ],
             [
              0.2222222222222222,
              "#7201a8"
             ],
             [
              0.3333333333333333,
              "#9c179e"
             ],
             [
              0.4444444444444444,
              "#bd3786"
             ],
             [
              0.5555555555555556,
              "#d8576b"
             ],
             [
              0.6666666666666666,
              "#ed7953"
             ],
             [
              0.7777777777777778,
              "#fb9f3a"
             ],
             [
              0.8888888888888888,
              "#fdca26"
             ],
             [
              1,
              "#f0f921"
             ]
            ],
            "type": "heatmap"
           }
          ],
          "heatmapgl": [
           {
            "colorbar": {
             "outlinewidth": 0,
             "ticks": ""
            },
            "colorscale": [
             [
              0,
              "#0d0887"
             ],
             [
              0.1111111111111111,
              "#46039f"
             ],
             [
              0.2222222222222222,
              "#7201a8"
             ],
             [
              0.3333333333333333,
              "#9c179e"
             ],
             [
              0.4444444444444444,
              "#bd3786"
             ],
             [
              0.5555555555555556,
              "#d8576b"
             ],
             [
              0.6666666666666666,
              "#ed7953"
             ],
             [
              0.7777777777777778,
              "#fb9f3a"
             ],
             [
              0.8888888888888888,
              "#fdca26"
             ],
             [
              1,
              "#f0f921"
             ]
            ],
            "type": "heatmapgl"
           }
          ],
          "histogram": [
           {
            "marker": {
             "pattern": {
              "fillmode": "overlay",
              "size": 10,
              "solidity": 0.2
             }
            },
            "type": "histogram"
           }
          ],
          "histogram2d": [
           {
            "colorbar": {
             "outlinewidth": 0,
             "ticks": ""
            },
            "colorscale": [
             [
              0,
              "#0d0887"
             ],
             [
              0.1111111111111111,
              "#46039f"
             ],
             [
              0.2222222222222222,
              "#7201a8"
             ],
             [
              0.3333333333333333,
              "#9c179e"
             ],
             [
              0.4444444444444444,
              "#bd3786"
             ],
             [
              0.5555555555555556,
              "#d8576b"
             ],
             [
              0.6666666666666666,
              "#ed7953"
             ],
             [
              0.7777777777777778,
              "#fb9f3a"
             ],
             [
              0.8888888888888888,
              "#fdca26"
             ],
             [
              1,
              "#f0f921"
             ]
            ],
            "type": "histogram2d"
           }
          ],
          "histogram2dcontour": [
           {
            "colorbar": {
             "outlinewidth": 0,
             "ticks": ""
            },
            "colorscale": [
             [
              0,
              "#0d0887"
             ],
             [
              0.1111111111111111,
              "#46039f"
             ],
             [
              0.2222222222222222,
              "#7201a8"
             ],
             [
              0.3333333333333333,
              "#9c179e"
             ],
             [
              0.4444444444444444,
              "#bd3786"
             ],
             [
              0.5555555555555556,
              "#d8576b"
             ],
             [
              0.6666666666666666,
              "#ed7953"
             ],
             [
              0.7777777777777778,
              "#fb9f3a"
             ],
             [
              0.8888888888888888,
              "#fdca26"
             ],
             [
              1,
              "#f0f921"
             ]
            ],
            "type": "histogram2dcontour"
           }
          ],
          "mesh3d": [
           {
            "colorbar": {
             "outlinewidth": 0,
             "ticks": ""
            },
            "type": "mesh3d"
           }
          ],
          "parcoords": [
           {
            "line": {
             "colorbar": {
              "outlinewidth": 0,
              "ticks": ""
             }
            },
            "type": "parcoords"
           }
          ],
          "pie": [
           {
            "automargin": true,
            "type": "pie"
           }
          ],
          "scatter": [
           {
            "fillpattern": {
             "fillmode": "overlay",
             "size": 10,
             "solidity": 0.2
            },
            "type": "scatter"
           }
          ],
          "scatter3d": [
           {
            "line": {
             "colorbar": {
              "outlinewidth": 0,
              "ticks": ""
             }
            },
            "marker": {
             "colorbar": {
              "outlinewidth": 0,
              "ticks": ""
             }
            },
            "type": "scatter3d"
           }
          ],
          "scattercarpet": [
           {
            "marker": {
             "colorbar": {
              "outlinewidth": 0,
              "ticks": ""
             }
            },
            "type": "scattercarpet"
           }
          ],
          "scattergeo": [
           {
            "marker": {
             "colorbar": {
              "outlinewidth": 0,
              "ticks": ""
             }
            },
            "type": "scattergeo"
           }
          ],
          "scattergl": [
           {
            "marker": {
             "colorbar": {
              "outlinewidth": 0,
              "ticks": ""
             }
            },
            "type": "scattergl"
           }
          ],
          "scattermapbox": [
           {
            "marker": {
             "colorbar": {
              "outlinewidth": 0,
              "ticks": ""
             }
            },
            "type": "scattermapbox"
           }
          ],
          "scatterpolar": [
           {
            "marker": {
             "colorbar": {
              "outlinewidth": 0,
              "ticks": ""
             }
            },
            "type": "scatterpolar"
           }
          ],
          "scatterpolargl": [
           {
            "marker": {
             "colorbar": {
              "outlinewidth": 0,
              "ticks": ""
             }
            },
            "type": "scatterpolargl"
           }
          ],
          "scatterternary": [
           {
            "marker": {
             "colorbar": {
              "outlinewidth": 0,
              "ticks": ""
             }
            },
            "type": "scatterternary"
           }
          ],
          "surface": [
           {
            "colorbar": {
             "outlinewidth": 0,
             "ticks": ""
            },
            "colorscale": [
             [
              0,
              "#0d0887"
             ],
             [
              0.1111111111111111,
              "#46039f"
             ],
             [
              0.2222222222222222,
              "#7201a8"
             ],
             [
              0.3333333333333333,
              "#9c179e"
             ],
             [
              0.4444444444444444,
              "#bd3786"
             ],
             [
              0.5555555555555556,
              "#d8576b"
             ],
             [
              0.6666666666666666,
              "#ed7953"
             ],
             [
              0.7777777777777778,
              "#fb9f3a"
             ],
             [
              0.8888888888888888,
              "#fdca26"
             ],
             [
              1,
              "#f0f921"
             ]
            ],
            "type": "surface"
           }
          ],
          "table": [
           {
            "cells": {
             "fill": {
              "color": "#EBF0F8"
             },
             "line": {
              "color": "white"
             }
            },
            "header": {
             "fill": {
              "color": "#C8D4E3"
             },
             "line": {
              "color": "white"
             }
            },
            "type": "table"
           }
          ]
         },
         "layout": {
          "annotationdefaults": {
           "arrowcolor": "#2a3f5f",
           "arrowhead": 0,
           "arrowwidth": 1
          },
          "autotypenumbers": "strict",
          "coloraxis": {
           "colorbar": {
            "outlinewidth": 0,
            "ticks": ""
           }
          },
          "colorscale": {
           "diverging": [
            [
             0,
             "#8e0152"
            ],
            [
             0.1,
             "#c51b7d"
            ],
            [
             0.2,
             "#de77ae"
            ],
            [
             0.3,
             "#f1b6da"
            ],
            [
             0.4,
             "#fde0ef"
            ],
            [
             0.5,
             "#f7f7f7"
            ],
            [
             0.6,
             "#e6f5d0"
            ],
            [
             0.7,
             "#b8e186"
            ],
            [
             0.8,
             "#7fbc41"
            ],
            [
             0.9,
             "#4d9221"
            ],
            [
             1,
             "#276419"
            ]
           ],
           "sequential": [
            [
             0,
             "#0d0887"
            ],
            [
             0.1111111111111111,
             "#46039f"
            ],
            [
             0.2222222222222222,
             "#7201a8"
            ],
            [
             0.3333333333333333,
             "#9c179e"
            ],
            [
             0.4444444444444444,
             "#bd3786"
            ],
            [
             0.5555555555555556,
             "#d8576b"
            ],
            [
             0.6666666666666666,
             "#ed7953"
            ],
            [
             0.7777777777777778,
             "#fb9f3a"
            ],
            [
             0.8888888888888888,
             "#fdca26"
            ],
            [
             1,
             "#f0f921"
            ]
           ],
           "sequentialminus": [
            [
             0,
             "#0d0887"
            ],
            [
             0.1111111111111111,
             "#46039f"
            ],
            [
             0.2222222222222222,
             "#7201a8"
            ],
            [
             0.3333333333333333,
             "#9c179e"
            ],
            [
             0.4444444444444444,
             "#bd3786"
            ],
            [
             0.5555555555555556,
             "#d8576b"
            ],
            [
             0.6666666666666666,
             "#ed7953"
            ],
            [
             0.7777777777777778,
             "#fb9f3a"
            ],
            [
             0.8888888888888888,
             "#fdca26"
            ],
            [
             1,
             "#f0f921"
            ]
           ]
          },
          "colorway": [
           "#636efa",
           "#EF553B",
           "#00cc96",
           "#ab63fa",
           "#FFA15A",
           "#19d3f3",
           "#FF6692",
           "#B6E880",
           "#FF97FF",
           "#FECB52"
          ],
          "font": {
           "color": "#2a3f5f"
          },
          "geo": {
           "bgcolor": "white",
           "lakecolor": "white",
           "landcolor": "#E5ECF6",
           "showlakes": true,
           "showland": true,
           "subunitcolor": "white"
          },
          "hoverlabel": {
           "align": "left"
          },
          "hovermode": "closest",
          "mapbox": {
           "style": "light"
          },
          "paper_bgcolor": "white",
          "plot_bgcolor": "#E5ECF6",
          "polar": {
           "angularaxis": {
            "gridcolor": "white",
            "linecolor": "white",
            "ticks": ""
           },
           "bgcolor": "#E5ECF6",
           "radialaxis": {
            "gridcolor": "white",
            "linecolor": "white",
            "ticks": ""
           }
          },
          "scene": {
           "xaxis": {
            "backgroundcolor": "#E5ECF6",
            "gridcolor": "white",
            "gridwidth": 2,
            "linecolor": "white",
            "showbackground": true,
            "ticks": "",
            "zerolinecolor": "white"
           },
           "yaxis": {
            "backgroundcolor": "#E5ECF6",
            "gridcolor": "white",
            "gridwidth": 2,
            "linecolor": "white",
            "showbackground": true,
            "ticks": "",
            "zerolinecolor": "white"
           },
           "zaxis": {
            "backgroundcolor": "#E5ECF6",
            "gridcolor": "white",
            "gridwidth": 2,
            "linecolor": "white",
            "showbackground": true,
            "ticks": "",
            "zerolinecolor": "white"
           }
          },
          "shapedefaults": {
           "line": {
            "color": "#2a3f5f"
           }
          },
          "ternary": {
           "aaxis": {
            "gridcolor": "white",
            "linecolor": "white",
            "ticks": ""
           },
           "baxis": {
            "gridcolor": "white",
            "linecolor": "white",
            "ticks": ""
           },
           "bgcolor": "#E5ECF6",
           "caxis": {
            "gridcolor": "white",
            "linecolor": "white",
            "ticks": ""
           }
          },
          "title": {
           "x": 0.05
          },
          "xaxis": {
           "automargin": true,
           "gridcolor": "white",
           "linecolor": "white",
           "ticks": "",
           "title": {
            "standoff": 15
           },
           "zerolinecolor": "white",
           "zerolinewidth": 2
          },
          "yaxis": {
           "automargin": true,
           "gridcolor": "white",
           "linecolor": "white",
           "ticks": "",
           "title": {
            "standoff": 15
           },
           "zerolinecolor": "white",
           "zerolinewidth": 2
          }
         }
        },
        "xaxis": {
         "anchor": "y",
         "categoryarray": [
          7846,
          5043,
          2351,
          2430
         ],
         "categoryorder": "array",
         "domain": [
          0,
          1
         ],
         "title": {
          "text": "user_id"
         }
        },
        "yaxis": {
         "anchor": "x",
         "domain": [
          0,
          1
         ],
         "title": {
          "text": "event_name"
         }
        }
       }
      }
     },
     "metadata": {},
     "output_type": "display_data"
    }
   ],
   "source": [
    "embudo_gr = px.funnel(\n",
    "    embudo_a, \n",
    "    x='user_id', \n",
    "    y= 'event_name',\n",
    "    text='tasa_conv',\n",
    "    color='user_id', \n",
    "    )\n",
    "    \n",
    "embudo_gr.show()"
   ]
  },
  {
   "cell_type": "code",
   "execution_count": 28,
   "metadata": {},
   "outputs": [
    {
     "data": {
      "application/vnd.plotly.v1+json": {
       "config": {
        "plotlyServerURL": "https://plot.ly"
       },
       "data": [
        {
         "marker": {
          "color": [
           "#636EFA",
           "#EF553B",
           "#00CC96",
           "#AB63FA",
           "#FFA15A"
          ]
         },
         "text": [
          100,
          64.27,
          46.61907594685703,
          103.36027222458529
         ],
         "textinfo": "label+value+percent previous",
         "type": "funnel",
         "x": [
          7846,
          5043,
          2351,
          2430
         ],
         "y": [
          "1_login",
          "2_product_page",
          "3_product_cart",
          "4_purchase"
         ]
        }
       ],
       "layout": {
        "template": {
         "data": {
          "bar": [
           {
            "error_x": {
             "color": "#2a3f5f"
            },
            "error_y": {
             "color": "#2a3f5f"
            },
            "marker": {
             "line": {
              "color": "#E5ECF6",
              "width": 0.5
             },
             "pattern": {
              "fillmode": "overlay",
              "size": 10,
              "solidity": 0.2
             }
            },
            "type": "bar"
           }
          ],
          "barpolar": [
           {
            "marker": {
             "line": {
              "color": "#E5ECF6",
              "width": 0.5
             },
             "pattern": {
              "fillmode": "overlay",
              "size": 10,
              "solidity": 0.2
             }
            },
            "type": "barpolar"
           }
          ],
          "carpet": [
           {
            "aaxis": {
             "endlinecolor": "#2a3f5f",
             "gridcolor": "white",
             "linecolor": "white",
             "minorgridcolor": "white",
             "startlinecolor": "#2a3f5f"
            },
            "baxis": {
             "endlinecolor": "#2a3f5f",
             "gridcolor": "white",
             "linecolor": "white",
             "minorgridcolor": "white",
             "startlinecolor": "#2a3f5f"
            },
            "type": "carpet"
           }
          ],
          "choropleth": [
           {
            "colorbar": {
             "outlinewidth": 0,
             "ticks": ""
            },
            "type": "choropleth"
           }
          ],
          "contour": [
           {
            "colorbar": {
             "outlinewidth": 0,
             "ticks": ""
            },
            "colorscale": [
             [
              0,
              "#0d0887"
             ],
             [
              0.1111111111111111,
              "#46039f"
             ],
             [
              0.2222222222222222,
              "#7201a8"
             ],
             [
              0.3333333333333333,
              "#9c179e"
             ],
             [
              0.4444444444444444,
              "#bd3786"
             ],
             [
              0.5555555555555556,
              "#d8576b"
             ],
             [
              0.6666666666666666,
              "#ed7953"
             ],
             [
              0.7777777777777778,
              "#fb9f3a"
             ],
             [
              0.8888888888888888,
              "#fdca26"
             ],
             [
              1,
              "#f0f921"
             ]
            ],
            "type": "contour"
           }
          ],
          "contourcarpet": [
           {
            "colorbar": {
             "outlinewidth": 0,
             "ticks": ""
            },
            "type": "contourcarpet"
           }
          ],
          "heatmap": [
           {
            "colorbar": {
             "outlinewidth": 0,
             "ticks": ""
            },
            "colorscale": [
             [
              0,
              "#0d0887"
             ],
             [
              0.1111111111111111,
              "#46039f"
             ],
             [
              0.2222222222222222,
              "#7201a8"
             ],
             [
              0.3333333333333333,
              "#9c179e"
             ],
             [
              0.4444444444444444,
              "#bd3786"
             ],
             [
              0.5555555555555556,
              "#d8576b"
             ],
             [
              0.6666666666666666,
              "#ed7953"
             ],
             [
              0.7777777777777778,
              "#fb9f3a"
             ],
             [
              0.8888888888888888,
              "#fdca26"
             ],
             [
              1,
              "#f0f921"
             ]
            ],
            "type": "heatmap"
           }
          ],
          "heatmapgl": [
           {
            "colorbar": {
             "outlinewidth": 0,
             "ticks": ""
            },
            "colorscale": [
             [
              0,
              "#0d0887"
             ],
             [
              0.1111111111111111,
              "#46039f"
             ],
             [
              0.2222222222222222,
              "#7201a8"
             ],
             [
              0.3333333333333333,
              "#9c179e"
             ],
             [
              0.4444444444444444,
              "#bd3786"
             ],
             [
              0.5555555555555556,
              "#d8576b"
             ],
             [
              0.6666666666666666,
              "#ed7953"
             ],
             [
              0.7777777777777778,
              "#fb9f3a"
             ],
             [
              0.8888888888888888,
              "#fdca26"
             ],
             [
              1,
              "#f0f921"
             ]
            ],
            "type": "heatmapgl"
           }
          ],
          "histogram": [
           {
            "marker": {
             "pattern": {
              "fillmode": "overlay",
              "size": 10,
              "solidity": 0.2
             }
            },
            "type": "histogram"
           }
          ],
          "histogram2d": [
           {
            "colorbar": {
             "outlinewidth": 0,
             "ticks": ""
            },
            "colorscale": [
             [
              0,
              "#0d0887"
             ],
             [
              0.1111111111111111,
              "#46039f"
             ],
             [
              0.2222222222222222,
              "#7201a8"
             ],
             [
              0.3333333333333333,
              "#9c179e"
             ],
             [
              0.4444444444444444,
              "#bd3786"
             ],
             [
              0.5555555555555556,
              "#d8576b"
             ],
             [
              0.6666666666666666,
              "#ed7953"
             ],
             [
              0.7777777777777778,
              "#fb9f3a"
             ],
             [
              0.8888888888888888,
              "#fdca26"
             ],
             [
              1,
              "#f0f921"
             ]
            ],
            "type": "histogram2d"
           }
          ],
          "histogram2dcontour": [
           {
            "colorbar": {
             "outlinewidth": 0,
             "ticks": ""
            },
            "colorscale": [
             [
              0,
              "#0d0887"
             ],
             [
              0.1111111111111111,
              "#46039f"
             ],
             [
              0.2222222222222222,
              "#7201a8"
             ],
             [
              0.3333333333333333,
              "#9c179e"
             ],
             [
              0.4444444444444444,
              "#bd3786"
             ],
             [
              0.5555555555555556,
              "#d8576b"
             ],
             [
              0.6666666666666666,
              "#ed7953"
             ],
             [
              0.7777777777777778,
              "#fb9f3a"
             ],
             [
              0.8888888888888888,
              "#fdca26"
             ],
             [
              1,
              "#f0f921"
             ]
            ],
            "type": "histogram2dcontour"
           }
          ],
          "mesh3d": [
           {
            "colorbar": {
             "outlinewidth": 0,
             "ticks": ""
            },
            "type": "mesh3d"
           }
          ],
          "parcoords": [
           {
            "line": {
             "colorbar": {
              "outlinewidth": 0,
              "ticks": ""
             }
            },
            "type": "parcoords"
           }
          ],
          "pie": [
           {
            "automargin": true,
            "type": "pie"
           }
          ],
          "scatter": [
           {
            "fillpattern": {
             "fillmode": "overlay",
             "size": 10,
             "solidity": 0.2
            },
            "type": "scatter"
           }
          ],
          "scatter3d": [
           {
            "line": {
             "colorbar": {
              "outlinewidth": 0,
              "ticks": ""
             }
            },
            "marker": {
             "colorbar": {
              "outlinewidth": 0,
              "ticks": ""
             }
            },
            "type": "scatter3d"
           }
          ],
          "scattercarpet": [
           {
            "marker": {
             "colorbar": {
              "outlinewidth": 0,
              "ticks": ""
             }
            },
            "type": "scattercarpet"
           }
          ],
          "scattergeo": [
           {
            "marker": {
             "colorbar": {
              "outlinewidth": 0,
              "ticks": ""
             }
            },
            "type": "scattergeo"
           }
          ],
          "scattergl": [
           {
            "marker": {
             "colorbar": {
              "outlinewidth": 0,
              "ticks": ""
             }
            },
            "type": "scattergl"
           }
          ],
          "scattermapbox": [
           {
            "marker": {
             "colorbar": {
              "outlinewidth": 0,
              "ticks": ""
             }
            },
            "type": "scattermapbox"
           }
          ],
          "scatterpolar": [
           {
            "marker": {
             "colorbar": {
              "outlinewidth": 0,
              "ticks": ""
             }
            },
            "type": "scatterpolar"
           }
          ],
          "scatterpolargl": [
           {
            "marker": {
             "colorbar": {
              "outlinewidth": 0,
              "ticks": ""
             }
            },
            "type": "scatterpolargl"
           }
          ],
          "scatterternary": [
           {
            "marker": {
             "colorbar": {
              "outlinewidth": 0,
              "ticks": ""
             }
            },
            "type": "scatterternary"
           }
          ],
          "surface": [
           {
            "colorbar": {
             "outlinewidth": 0,
             "ticks": ""
            },
            "colorscale": [
             [
              0,
              "#0d0887"
             ],
             [
              0.1111111111111111,
              "#46039f"
             ],
             [
              0.2222222222222222,
              "#7201a8"
             ],
             [
              0.3333333333333333,
              "#9c179e"
             ],
             [
              0.4444444444444444,
              "#bd3786"
             ],
             [
              0.5555555555555556,
              "#d8576b"
             ],
             [
              0.6666666666666666,
              "#ed7953"
             ],
             [
              0.7777777777777778,
              "#fb9f3a"
             ],
             [
              0.8888888888888888,
              "#fdca26"
             ],
             [
              1,
              "#f0f921"
             ]
            ],
            "type": "surface"
           }
          ],
          "table": [
           {
            "cells": {
             "fill": {
              "color": "#EBF0F8"
             },
             "line": {
              "color": "white"
             }
            },
            "header": {
             "fill": {
              "color": "#C8D4E3"
             },
             "line": {
              "color": "white"
             }
            },
            "type": "table"
           }
          ]
         },
         "layout": {
          "annotationdefaults": {
           "arrowcolor": "#2a3f5f",
           "arrowhead": 0,
           "arrowwidth": 1
          },
          "autotypenumbers": "strict",
          "coloraxis": {
           "colorbar": {
            "outlinewidth": 0,
            "ticks": ""
           }
          },
          "colorscale": {
           "diverging": [
            [
             0,
             "#8e0152"
            ],
            [
             0.1,
             "#c51b7d"
            ],
            [
             0.2,
             "#de77ae"
            ],
            [
             0.3,
             "#f1b6da"
            ],
            [
             0.4,
             "#fde0ef"
            ],
            [
             0.5,
             "#f7f7f7"
            ],
            [
             0.6,
             "#e6f5d0"
            ],
            [
             0.7,
             "#b8e186"
            ],
            [
             0.8,
             "#7fbc41"
            ],
            [
             0.9,
             "#4d9221"
            ],
            [
             1,
             "#276419"
            ]
           ],
           "sequential": [
            [
             0,
             "#0d0887"
            ],
            [
             0.1111111111111111,
             "#46039f"
            ],
            [
             0.2222222222222222,
             "#7201a8"
            ],
            [
             0.3333333333333333,
             "#9c179e"
            ],
            [
             0.4444444444444444,
             "#bd3786"
            ],
            [
             0.5555555555555556,
             "#d8576b"
            ],
            [
             0.6666666666666666,
             "#ed7953"
            ],
            [
             0.7777777777777778,
             "#fb9f3a"
            ],
            [
             0.8888888888888888,
             "#fdca26"
            ],
            [
             1,
             "#f0f921"
            ]
           ],
           "sequentialminus": [
            [
             0,
             "#0d0887"
            ],
            [
             0.1111111111111111,
             "#46039f"
            ],
            [
             0.2222222222222222,
             "#7201a8"
            ],
            [
             0.3333333333333333,
             "#9c179e"
            ],
            [
             0.4444444444444444,
             "#bd3786"
            ],
            [
             0.5555555555555556,
             "#d8576b"
            ],
            [
             0.6666666666666666,
             "#ed7953"
            ],
            [
             0.7777777777777778,
             "#fb9f3a"
            ],
            [
             0.8888888888888888,
             "#fdca26"
            ],
            [
             1,
             "#f0f921"
            ]
           ]
          },
          "colorway": [
           "#636efa",
           "#EF553B",
           "#00cc96",
           "#ab63fa",
           "#FFA15A",
           "#19d3f3",
           "#FF6692",
           "#B6E880",
           "#FF97FF",
           "#FECB52"
          ],
          "font": {
           "color": "#2a3f5f"
          },
          "geo": {
           "bgcolor": "white",
           "lakecolor": "white",
           "landcolor": "#E5ECF6",
           "showlakes": true,
           "showland": true,
           "subunitcolor": "white"
          },
          "hoverlabel": {
           "align": "left"
          },
          "hovermode": "closest",
          "mapbox": {
           "style": "light"
          },
          "paper_bgcolor": "white",
          "plot_bgcolor": "#E5ECF6",
          "polar": {
           "angularaxis": {
            "gridcolor": "white",
            "linecolor": "white",
            "ticks": ""
           },
           "bgcolor": "#E5ECF6",
           "radialaxis": {
            "gridcolor": "white",
            "linecolor": "white",
            "ticks": ""
           }
          },
          "scene": {
           "xaxis": {
            "backgroundcolor": "#E5ECF6",
            "gridcolor": "white",
            "gridwidth": 2,
            "linecolor": "white",
            "showbackground": true,
            "ticks": "",
            "zerolinecolor": "white"
           },
           "yaxis": {
            "backgroundcolor": "#E5ECF6",
            "gridcolor": "white",
            "gridwidth": 2,
            "linecolor": "white",
            "showbackground": true,
            "ticks": "",
            "zerolinecolor": "white"
           },
           "zaxis": {
            "backgroundcolor": "#E5ECF6",
            "gridcolor": "white",
            "gridwidth": 2,
            "linecolor": "white",
            "showbackground": true,
            "ticks": "",
            "zerolinecolor": "white"
           }
          },
          "shapedefaults": {
           "line": {
            "color": "#2a3f5f"
           }
          },
          "ternary": {
           "aaxis": {
            "gridcolor": "white",
            "linecolor": "white",
            "ticks": ""
           },
           "baxis": {
            "gridcolor": "white",
            "linecolor": "white",
            "ticks": ""
           },
           "bgcolor": "#E5ECF6",
           "caxis": {
            "gridcolor": "white",
            "linecolor": "white",
            "ticks": ""
           }
          },
          "title": {
           "x": 0.05
          },
          "xaxis": {
           "automargin": true,
           "gridcolor": "white",
           "linecolor": "white",
           "ticks": "",
           "title": {
            "standoff": 15
           },
           "zerolinecolor": "white",
           "zerolinewidth": 2
          },
          "yaxis": {
           "automargin": true,
           "gridcolor": "white",
           "linecolor": "white",
           "ticks": "",
           "title": {
            "standoff": 15
           },
           "zerolinecolor": "white",
           "zerolinewidth": 2
          }
         }
        },
        "title": {
         "text": "Embudo de Conversión Grupo A"
        }
       }
      }
     },
     "metadata": {},
     "output_type": "display_data"
    }
   ],
   "source": [
    "colores = ['#636EFA', '#EF553B', '#00CC96', '#AB63FA', '#FFA15A'] \n",
    "embudo_gr = go.Figure(go.Funnel(\n",
    "    y=embudo_a['event_name'],\n",
    "    x=embudo_a['user_id'],\n",
    "    textinfo=\"label+value+percent previous\",  # Controla el tipo de texto que deseas mostrar\n",
    "    text=embudo_a['tasa_conv'],  # Texto personalizado\n",
    "    marker = dict(color = colores)\n",
    "))\n",
    "embudo_gr.update_layout(title=\"Embudo de Conversión Grupo A\")\n",
    "embudo_gr.show()\n"
   ]
  },
  {
   "cell_type": "markdown",
   "metadata": {},
   "source": [
    "#### Análisis del Grupo A, \"recommender_...\", Zona EU:\n",
    "\n",
    "1.- Observamos que del 100% de los usuarios (7,846) el 64% (5,043) entran a paginas de productos\n",
    "2.- De los 5,043 el 47% (2,351) colocan un producto en su carrito.\n",
    "3.- EXTRAÑAMENTE tenemos 103% de compras al colocar producto en el carrito. (2,430)\n",
    "\n",
    "Esto es de los usuarios de la prueba A, de la zona de EU, de la prueba \"recommender_system_test\""
   ]
  },
  {
   "cell_type": "markdown",
   "metadata": {},
   "source": [
    "### Embudo Grupo B"
   ]
  },
  {
   "cell_type": "code",
   "execution_count": 29,
   "metadata": {},
   "outputs": [
    {
     "data": {
      "text/html": [
       "<div>\n",
       "<style scoped>\n",
       "    .dataframe tbody tr th:only-of-type {\n",
       "        vertical-align: middle;\n",
       "    }\n",
       "\n",
       "    .dataframe tbody tr th {\n",
       "        vertical-align: top;\n",
       "    }\n",
       "\n",
       "    .dataframe thead th {\n",
       "        text-align: right;\n",
       "    }\n",
       "</style>\n",
       "<table border=\"1\" class=\"dataframe\">\n",
       "  <thead>\n",
       "    <tr style=\"text-align: right;\">\n",
       "      <th></th>\n",
       "      <th>event_name</th>\n",
       "      <th>user_id</th>\n",
       "    </tr>\n",
       "  </thead>\n",
       "  <tbody>\n",
       "    <tr>\n",
       "      <th>0</th>\n",
       "      <td>login</td>\n",
       "      <td>2415</td>\n",
       "    </tr>\n",
       "    <tr>\n",
       "      <th>2</th>\n",
       "      <td>product_page</td>\n",
       "      <td>1297</td>\n",
       "    </tr>\n",
       "    <tr>\n",
       "      <th>3</th>\n",
       "      <td>purchase</td>\n",
       "      <td>649</td>\n",
       "    </tr>\n",
       "    <tr>\n",
       "      <th>1</th>\n",
       "      <td>product_cart</td>\n",
       "      <td>643</td>\n",
       "    </tr>\n",
       "  </tbody>\n",
       "</table>\n",
       "</div>"
      ],
      "text/plain": [
       "     event_name  user_id\n",
       "0         login     2415\n",
       "2  product_page     1297\n",
       "3      purchase      649\n",
       "1  product_cart      643"
      ]
     },
     "execution_count": 29,
     "metadata": {},
     "output_type": "execute_result"
    }
   ],
   "source": [
    "#embudo grupo B\n",
    "embudo_b = events_b.groupby('event_name')['user_id'].count()\n",
    "embudo_b = embudo_b.reset_index()\n",
    "embudo_b = embudo_b.sort_values(by='user_id',ascending=False)\n",
    "\n",
    "embudo_b"
   ]
  },
  {
   "cell_type": "markdown",
   "metadata": {},
   "source": [
    "## Se tienen 2,415 usuarios de EU para el grupo B en la prueba \"recommender_...\""
   ]
  },
  {
   "cell_type": "code",
   "execution_count": 30,
   "metadata": {},
   "outputs": [
    {
     "data": {
      "text/plain": [
       "0"
      ]
     },
     "execution_count": 30,
     "metadata": {},
     "output_type": "execute_result"
    }
   ],
   "source": [
    "#Revisamos que no tengamos duplicados.\n",
    "b_dup = events_b.duplicated().sum()\n",
    "b_dup"
   ]
  },
  {
   "cell_type": "code",
   "execution_count": 31,
   "metadata": {},
   "outputs": [
    {
     "name": "stdout",
     "output_type": "stream",
     "text": [
      "tasas de conversión del grupo B\n"
     ]
    },
    {
     "data": {
      "text/plain": [
       "[100, 53.71, 49.575944487278335, 100.93312597200621]"
      ]
     },
     "execution_count": 31,
     "metadata": {},
     "output_type": "execute_result"
    }
   ],
   "source": [
    "print('tasas de conversión del grupo B')\n",
    "\n",
    "login = 2415\n",
    "product_page = 1297\n",
    "purchase = 649\n",
    "product_cart = 643\n",
    "\n",
    "log_to_page = (product_page / login)*100\n",
    "log_to_page = np.round(log_to_page,2)\n",
    "page_to_cart = (product_cart/product_page)*100\n",
    "page_to_cart\n",
    "cart_to_purchase = ( purchase / product_cart )*100\n",
    "cart_to_purchase\n",
    "\n",
    "tasa_conv = [100, log_to_page, page_to_cart,cart_to_purchase ]\n",
    "\n",
    "tasa_conv"
   ]
  },
  {
   "cell_type": "code",
   "execution_count": 32,
   "metadata": {},
   "outputs": [
    {
     "data": {
      "text/html": [
       "<div>\n",
       "<style scoped>\n",
       "    .dataframe tbody tr th:only-of-type {\n",
       "        vertical-align: middle;\n",
       "    }\n",
       "\n",
       "    .dataframe tbody tr th {\n",
       "        vertical-align: top;\n",
       "    }\n",
       "\n",
       "    .dataframe thead th {\n",
       "        text-align: right;\n",
       "    }\n",
       "</style>\n",
       "<table border=\"1\" class=\"dataframe\">\n",
       "  <thead>\n",
       "    <tr style=\"text-align: right;\">\n",
       "      <th></th>\n",
       "      <th>event_name</th>\n",
       "      <th>user_id</th>\n",
       "      <th>tasa_conv</th>\n",
       "    </tr>\n",
       "  </thead>\n",
       "  <tbody>\n",
       "    <tr>\n",
       "      <th>0</th>\n",
       "      <td>1_login</td>\n",
       "      <td>2415</td>\n",
       "      <td>100.000000</td>\n",
       "    </tr>\n",
       "    <tr>\n",
       "      <th>2</th>\n",
       "      <td>2_product_page</td>\n",
       "      <td>1297</td>\n",
       "      <td>53.710000</td>\n",
       "    </tr>\n",
       "    <tr>\n",
       "      <th>1</th>\n",
       "      <td>3_product_cart</td>\n",
       "      <td>643</td>\n",
       "      <td>49.575944</td>\n",
       "    </tr>\n",
       "    <tr>\n",
       "      <th>3</th>\n",
       "      <td>4_purchase</td>\n",
       "      <td>649</td>\n",
       "      <td>100.933126</td>\n",
       "    </tr>\n",
       "  </tbody>\n",
       "</table>\n",
       "</div>"
      ],
      "text/plain": [
       "       event_name  user_id   tasa_conv\n",
       "0         1_login     2415  100.000000\n",
       "2  2_product_page     1297   53.710000\n",
       "1  3_product_cart      643   49.575944\n",
       "3      4_purchase      649  100.933126"
      ]
     },
     "execution_count": 32,
     "metadata": {},
     "output_type": "execute_result"
    }
   ],
   "source": [
    "embudo_b['event_name'] = embudo_b['event_name'].replace('login', '1_login')\n",
    "embudo_b['event_name'] = embudo_b['event_name'].replace('product_page', '2_product_page')\n",
    "embudo_b['event_name'] = embudo_b['event_name'].replace('product_cart', '3_product_cart')\n",
    "embudo_b['event_name'] = embudo_b['event_name'].replace('purchase', '4_purchase')\n",
    "\n",
    "embudo_b = embudo_b.sort_values(by='event_name')\n",
    "\n",
    "embudo_b['tasa_conv'] = tasa_conv\n",
    "embudo_b\n",
    "#embudo_b.info()"
   ]
  },
  {
   "cell_type": "code",
   "execution_count": 33,
   "metadata": {},
   "outputs": [
    {
     "data": {
      "application/vnd.plotly.v1+json": {
       "config": {
        "plotlyServerURL": "https://plot.ly"
       },
       "data": [
        {
         "marker": {
          "color": [
           "#636EFA",
           "#EF553B",
           "#00CC96",
           "#AB63FA",
           "#FFA15A"
          ]
         },
         "text": [
          100,
          53.71,
          49.575944487278335,
          100.93312597200621
         ],
         "textinfo": "label+value+percent previous",
         "type": "funnel",
         "x": [
          2415,
          1297,
          643,
          649
         ],
         "y": [
          "1_login",
          "2_product_page",
          "3_product_cart",
          "4_purchase"
         ]
        }
       ],
       "layout": {
        "template": {
         "data": {
          "bar": [
           {
            "error_x": {
             "color": "#2a3f5f"
            },
            "error_y": {
             "color": "#2a3f5f"
            },
            "marker": {
             "line": {
              "color": "#E5ECF6",
              "width": 0.5
             },
             "pattern": {
              "fillmode": "overlay",
              "size": 10,
              "solidity": 0.2
             }
            },
            "type": "bar"
           }
          ],
          "barpolar": [
           {
            "marker": {
             "line": {
              "color": "#E5ECF6",
              "width": 0.5
             },
             "pattern": {
              "fillmode": "overlay",
              "size": 10,
              "solidity": 0.2
             }
            },
            "type": "barpolar"
           }
          ],
          "carpet": [
           {
            "aaxis": {
             "endlinecolor": "#2a3f5f",
             "gridcolor": "white",
             "linecolor": "white",
             "minorgridcolor": "white",
             "startlinecolor": "#2a3f5f"
            },
            "baxis": {
             "endlinecolor": "#2a3f5f",
             "gridcolor": "white",
             "linecolor": "white",
             "minorgridcolor": "white",
             "startlinecolor": "#2a3f5f"
            },
            "type": "carpet"
           }
          ],
          "choropleth": [
           {
            "colorbar": {
             "outlinewidth": 0,
             "ticks": ""
            },
            "type": "choropleth"
           }
          ],
          "contour": [
           {
            "colorbar": {
             "outlinewidth": 0,
             "ticks": ""
            },
            "colorscale": [
             [
              0,
              "#0d0887"
             ],
             [
              0.1111111111111111,
              "#46039f"
             ],
             [
              0.2222222222222222,
              "#7201a8"
             ],
             [
              0.3333333333333333,
              "#9c179e"
             ],
             [
              0.4444444444444444,
              "#bd3786"
             ],
             [
              0.5555555555555556,
              "#d8576b"
             ],
             [
              0.6666666666666666,
              "#ed7953"
             ],
             [
              0.7777777777777778,
              "#fb9f3a"
             ],
             [
              0.8888888888888888,
              "#fdca26"
             ],
             [
              1,
              "#f0f921"
             ]
            ],
            "type": "contour"
           }
          ],
          "contourcarpet": [
           {
            "colorbar": {
             "outlinewidth": 0,
             "ticks": ""
            },
            "type": "contourcarpet"
           }
          ],
          "heatmap": [
           {
            "colorbar": {
             "outlinewidth": 0,
             "ticks": ""
            },
            "colorscale": [
             [
              0,
              "#0d0887"
             ],
             [
              0.1111111111111111,
              "#46039f"
             ],
             [
              0.2222222222222222,
              "#7201a8"
             ],
             [
              0.3333333333333333,
              "#9c179e"
             ],
             [
              0.4444444444444444,
              "#bd3786"
             ],
             [
              0.5555555555555556,
              "#d8576b"
             ],
             [
              0.6666666666666666,
              "#ed7953"
             ],
             [
              0.7777777777777778,
              "#fb9f3a"
             ],
             [
              0.8888888888888888,
              "#fdca26"
             ],
             [
              1,
              "#f0f921"
             ]
            ],
            "type": "heatmap"
           }
          ],
          "heatmapgl": [
           {
            "colorbar": {
             "outlinewidth": 0,
             "ticks": ""
            },
            "colorscale": [
             [
              0,
              "#0d0887"
             ],
             [
              0.1111111111111111,
              "#46039f"
             ],
             [
              0.2222222222222222,
              "#7201a8"
             ],
             [
              0.3333333333333333,
              "#9c179e"
             ],
             [
              0.4444444444444444,
              "#bd3786"
             ],
             [
              0.5555555555555556,
              "#d8576b"
             ],
             [
              0.6666666666666666,
              "#ed7953"
             ],
             [
              0.7777777777777778,
              "#fb9f3a"
             ],
             [
              0.8888888888888888,
              "#fdca26"
             ],
             [
              1,
              "#f0f921"
             ]
            ],
            "type": "heatmapgl"
           }
          ],
          "histogram": [
           {
            "marker": {
             "pattern": {
              "fillmode": "overlay",
              "size": 10,
              "solidity": 0.2
             }
            },
            "type": "histogram"
           }
          ],
          "histogram2d": [
           {
            "colorbar": {
             "outlinewidth": 0,
             "ticks": ""
            },
            "colorscale": [
             [
              0,
              "#0d0887"
             ],
             [
              0.1111111111111111,
              "#46039f"
             ],
             [
              0.2222222222222222,
              "#7201a8"
             ],
             [
              0.3333333333333333,
              "#9c179e"
             ],
             [
              0.4444444444444444,
              "#bd3786"
             ],
             [
              0.5555555555555556,
              "#d8576b"
             ],
             [
              0.6666666666666666,
              "#ed7953"
             ],
             [
              0.7777777777777778,
              "#fb9f3a"
             ],
             [
              0.8888888888888888,
              "#fdca26"
             ],
             [
              1,
              "#f0f921"
             ]
            ],
            "type": "histogram2d"
           }
          ],
          "histogram2dcontour": [
           {
            "colorbar": {
             "outlinewidth": 0,
             "ticks": ""
            },
            "colorscale": [
             [
              0,
              "#0d0887"
             ],
             [
              0.1111111111111111,
              "#46039f"
             ],
             [
              0.2222222222222222,
              "#7201a8"
             ],
             [
              0.3333333333333333,
              "#9c179e"
             ],
             [
              0.4444444444444444,
              "#bd3786"
             ],
             [
              0.5555555555555556,
              "#d8576b"
             ],
             [
              0.6666666666666666,
              "#ed7953"
             ],
             [
              0.7777777777777778,
              "#fb9f3a"
             ],
             [
              0.8888888888888888,
              "#fdca26"
             ],
             [
              1,
              "#f0f921"
             ]
            ],
            "type": "histogram2dcontour"
           }
          ],
          "mesh3d": [
           {
            "colorbar": {
             "outlinewidth": 0,
             "ticks": ""
            },
            "type": "mesh3d"
           }
          ],
          "parcoords": [
           {
            "line": {
             "colorbar": {
              "outlinewidth": 0,
              "ticks": ""
             }
            },
            "type": "parcoords"
           }
          ],
          "pie": [
           {
            "automargin": true,
            "type": "pie"
           }
          ],
          "scatter": [
           {
            "fillpattern": {
             "fillmode": "overlay",
             "size": 10,
             "solidity": 0.2
            },
            "type": "scatter"
           }
          ],
          "scatter3d": [
           {
            "line": {
             "colorbar": {
              "outlinewidth": 0,
              "ticks": ""
             }
            },
            "marker": {
             "colorbar": {
              "outlinewidth": 0,
              "ticks": ""
             }
            },
            "type": "scatter3d"
           }
          ],
          "scattercarpet": [
           {
            "marker": {
             "colorbar": {
              "outlinewidth": 0,
              "ticks": ""
             }
            },
            "type": "scattercarpet"
           }
          ],
          "scattergeo": [
           {
            "marker": {
             "colorbar": {
              "outlinewidth": 0,
              "ticks": ""
             }
            },
            "type": "scattergeo"
           }
          ],
          "scattergl": [
           {
            "marker": {
             "colorbar": {
              "outlinewidth": 0,
              "ticks": ""
             }
            },
            "type": "scattergl"
           }
          ],
          "scattermapbox": [
           {
            "marker": {
             "colorbar": {
              "outlinewidth": 0,
              "ticks": ""
             }
            },
            "type": "scattermapbox"
           }
          ],
          "scatterpolar": [
           {
            "marker": {
             "colorbar": {
              "outlinewidth": 0,
              "ticks": ""
             }
            },
            "type": "scatterpolar"
           }
          ],
          "scatterpolargl": [
           {
            "marker": {
             "colorbar": {
              "outlinewidth": 0,
              "ticks": ""
             }
            },
            "type": "scatterpolargl"
           }
          ],
          "scatterternary": [
           {
            "marker": {
             "colorbar": {
              "outlinewidth": 0,
              "ticks": ""
             }
            },
            "type": "scatterternary"
           }
          ],
          "surface": [
           {
            "colorbar": {
             "outlinewidth": 0,
             "ticks": ""
            },
            "colorscale": [
             [
              0,
              "#0d0887"
             ],
             [
              0.1111111111111111,
              "#46039f"
             ],
             [
              0.2222222222222222,
              "#7201a8"
             ],
             [
              0.3333333333333333,
              "#9c179e"
             ],
             [
              0.4444444444444444,
              "#bd3786"
             ],
             [
              0.5555555555555556,
              "#d8576b"
             ],
             [
              0.6666666666666666,
              "#ed7953"
             ],
             [
              0.7777777777777778,
              "#fb9f3a"
             ],
             [
              0.8888888888888888,
              "#fdca26"
             ],
             [
              1,
              "#f0f921"
             ]
            ],
            "type": "surface"
           }
          ],
          "table": [
           {
            "cells": {
             "fill": {
              "color": "#EBF0F8"
             },
             "line": {
              "color": "white"
             }
            },
            "header": {
             "fill": {
              "color": "#C8D4E3"
             },
             "line": {
              "color": "white"
             }
            },
            "type": "table"
           }
          ]
         },
         "layout": {
          "annotationdefaults": {
           "arrowcolor": "#2a3f5f",
           "arrowhead": 0,
           "arrowwidth": 1
          },
          "autotypenumbers": "strict",
          "coloraxis": {
           "colorbar": {
            "outlinewidth": 0,
            "ticks": ""
           }
          },
          "colorscale": {
           "diverging": [
            [
             0,
             "#8e0152"
            ],
            [
             0.1,
             "#c51b7d"
            ],
            [
             0.2,
             "#de77ae"
            ],
            [
             0.3,
             "#f1b6da"
            ],
            [
             0.4,
             "#fde0ef"
            ],
            [
             0.5,
             "#f7f7f7"
            ],
            [
             0.6,
             "#e6f5d0"
            ],
            [
             0.7,
             "#b8e186"
            ],
            [
             0.8,
             "#7fbc41"
            ],
            [
             0.9,
             "#4d9221"
            ],
            [
             1,
             "#276419"
            ]
           ],
           "sequential": [
            [
             0,
             "#0d0887"
            ],
            [
             0.1111111111111111,
             "#46039f"
            ],
            [
             0.2222222222222222,
             "#7201a8"
            ],
            [
             0.3333333333333333,
             "#9c179e"
            ],
            [
             0.4444444444444444,
             "#bd3786"
            ],
            [
             0.5555555555555556,
             "#d8576b"
            ],
            [
             0.6666666666666666,
             "#ed7953"
            ],
            [
             0.7777777777777778,
             "#fb9f3a"
            ],
            [
             0.8888888888888888,
             "#fdca26"
            ],
            [
             1,
             "#f0f921"
            ]
           ],
           "sequentialminus": [
            [
             0,
             "#0d0887"
            ],
            [
             0.1111111111111111,
             "#46039f"
            ],
            [
             0.2222222222222222,
             "#7201a8"
            ],
            [
             0.3333333333333333,
             "#9c179e"
            ],
            [
             0.4444444444444444,
             "#bd3786"
            ],
            [
             0.5555555555555556,
             "#d8576b"
            ],
            [
             0.6666666666666666,
             "#ed7953"
            ],
            [
             0.7777777777777778,
             "#fb9f3a"
            ],
            [
             0.8888888888888888,
             "#fdca26"
            ],
            [
             1,
             "#f0f921"
            ]
           ]
          },
          "colorway": [
           "#636efa",
           "#EF553B",
           "#00cc96",
           "#ab63fa",
           "#FFA15A",
           "#19d3f3",
           "#FF6692",
           "#B6E880",
           "#FF97FF",
           "#FECB52"
          ],
          "font": {
           "color": "#2a3f5f"
          },
          "geo": {
           "bgcolor": "white",
           "lakecolor": "white",
           "landcolor": "#E5ECF6",
           "showlakes": true,
           "showland": true,
           "subunitcolor": "white"
          },
          "hoverlabel": {
           "align": "left"
          },
          "hovermode": "closest",
          "mapbox": {
           "style": "light"
          },
          "paper_bgcolor": "white",
          "plot_bgcolor": "#E5ECF6",
          "polar": {
           "angularaxis": {
            "gridcolor": "white",
            "linecolor": "white",
            "ticks": ""
           },
           "bgcolor": "#E5ECF6",
           "radialaxis": {
            "gridcolor": "white",
            "linecolor": "white",
            "ticks": ""
           }
          },
          "scene": {
           "xaxis": {
            "backgroundcolor": "#E5ECF6",
            "gridcolor": "white",
            "gridwidth": 2,
            "linecolor": "white",
            "showbackground": true,
            "ticks": "",
            "zerolinecolor": "white"
           },
           "yaxis": {
            "backgroundcolor": "#E5ECF6",
            "gridcolor": "white",
            "gridwidth": 2,
            "linecolor": "white",
            "showbackground": true,
            "ticks": "",
            "zerolinecolor": "white"
           },
           "zaxis": {
            "backgroundcolor": "#E5ECF6",
            "gridcolor": "white",
            "gridwidth": 2,
            "linecolor": "white",
            "showbackground": true,
            "ticks": "",
            "zerolinecolor": "white"
           }
          },
          "shapedefaults": {
           "line": {
            "color": "#2a3f5f"
           }
          },
          "ternary": {
           "aaxis": {
            "gridcolor": "white",
            "linecolor": "white",
            "ticks": ""
           },
           "baxis": {
            "gridcolor": "white",
            "linecolor": "white",
            "ticks": ""
           },
           "bgcolor": "#E5ECF6",
           "caxis": {
            "gridcolor": "white",
            "linecolor": "white",
            "ticks": ""
           }
          },
          "title": {
           "x": 0.05
          },
          "xaxis": {
           "automargin": true,
           "gridcolor": "white",
           "linecolor": "white",
           "ticks": "",
           "title": {
            "standoff": 15
           },
           "zerolinecolor": "white",
           "zerolinewidth": 2
          },
          "yaxis": {
           "automargin": true,
           "gridcolor": "white",
           "linecolor": "white",
           "ticks": "",
           "title": {
            "standoff": 15
           },
           "zerolinecolor": "white",
           "zerolinewidth": 2
          }
         }
        },
        "title": {
         "text": "Embudo de Conversión Grupo B"
        }
       }
      }
     },
     "metadata": {},
     "output_type": "display_data"
    }
   ],
   "source": [
    "colores = ['#636EFA', '#EF553B', '#00CC96', '#AB63FA', '#FFA15A'] \n",
    "embudob_gr = go.Figure(go.Funnel(\n",
    "    y=embudo_b['event_name'],\n",
    "    x=embudo_b['user_id'],\n",
    "    textinfo=\"label+value+percent previous\",  # Controla el tipo de texto que deseas mostrar\n",
    "    text=embudo_b['tasa_conv'],  # Texto personalizado\n",
    "    marker = dict(color = colores)\n",
    "))\n",
    "\n",
    "embudob_gr.update_layout(title=\"Embudo de Conversión Grupo B\")\n",
    "\n",
    "embudob_gr.show()\n"
   ]
  },
  {
   "cell_type": "markdown",
   "metadata": {},
   "source": [
    "### ¿Hay usuarios que están presentes en ambas muestras?"
   ]
  },
  {
   "cell_type": "code",
   "execution_count": 34,
   "metadata": {},
   "outputs": [
    {
     "data": {
      "text/plain": [
       "array(['CD74C3D22FFC09C2', '50AA023EF325BCA1', 'EAFB9027A27D510C',\n",
       "       '5D5E6EE92AF6E9E0', '52E7B7DC39F52987', '76326F7A53D2008C',\n",
       "       '3ED90BE0DC2A3FD3', 'E5AAA57C73A05E27', 'DA84B03F1D02D13E',\n",
       "       '948AADCBA0AD33FC', '87C4963DF01E3B3C', '38B78992508A9283',\n",
       "       '3B3F68DC5779E517', '1DB9BA78121F03CF', '172F0C1F993BE914',\n",
       "       '04BE4EFE4C457312', '17F1ADF25C75168A', 'FB24D74F33FB4839',\n",
       "       '14AEC962812EB706', 'CD668979C54E22F7', 'E272F8495E9A7C6B',\n",
       "       '10DC7B8A6665A92A', 'E16541C1EBE7C18F', 'AE0ED48DFD2FC0EC',\n",
       "       '663B8FD2ECC67EFF', '6B72CFAE1935C789', 'A7E7871D2D2637C4',\n",
       "       'BA2110BD833E835A', '26C7FBF370BACD23', 'F26444BA1B35C213',\n",
       "       '3629BFFE2E7A93F0', 'BD64B1467A1F41A0', '001064FEAAB631A1',\n",
       "       'A62BEB5AF596DB62', 'D03349A4CC16450F', 'C32628A8AA662390',\n",
       "       '45D971502E89E65E', 'F5717EDCB0830A05', 'C3C56A2DFF10BC79',\n",
       "       '6FC1998A6D98C01A', 'E29FA3EDD2698E7A', '1FFFDF2881715DDF',\n",
       "       'F057A0C8EFECDBEE', 'BABB70C636BA523A', '7E10D15F5D8A0A23',\n",
       "       '30DEB75B33B92DC8', '0D7E9E93CD497547', '890FAC5B9F47563F',\n",
       "       '48A3963537D96EFC', '51CFE2034A743204', 'CC9D5FE5F9DC8D01',\n",
       "       '6EFF2BB96F97768F', '169ED13E27C51F3B', '58F29FD5F5BEEF1E',\n",
       "       '8B480AD647CE1BDE', '15B0DB8D837C4234', 'AEB9B39AE54D3598',\n",
       "       '9418C62EB3E7B211', 'D7FBE79C98D03907', '040F68E9E1294840',\n",
       "       '80DBF4EAF80F62A3', 'C551062DE251F867', '82952C2B5CFAD42B',\n",
       "       'A7F66CD708BF0454', '2EBF2E73A8630674', '6A7F8D10E390B4F5',\n",
       "       'E18D25D68D9FCC60', '8FA22C8AB0409CA3', 'A57DB8C0438CB846',\n",
       "       '9B73C945ABD15531', 'F3A05C8D912975AB', '9705F9A636A8C2C9',\n",
       "       '491E514995731DC0', '954C980B4A9559FF', '47EEC31E3D0C6E8B',\n",
       "       '94DEE458C4F03B12', 'B6DBDDB2BD00352E', '24553DD3FF973EE4',\n",
       "       'DFEAF49F56175B88', '99AB3356C66C173F', 'CA75B372B0A884B0',\n",
       "       'E3048C1D75193226', '1DC5295D91FF1336', '82E92E637C47885A',\n",
       "       '94464DF2E5398E26', '20C556708013209A', '902F92052587344F',\n",
       "       '8C028F5F4F1B3972', 'F928AA2E93C53974', '051112E3FE1F2E55',\n",
       "       '23F551153080EBAB', 'F0C5A6227B046452', '320CE96A266DF0CC',\n",
       "       'E005D097532E222B', '83D32D8B69200484', '9F0571C70D4BD33B',\n",
       "       'EF449601C94D2496', '502902B3C32C72FF', '56E03288981E9B3D',\n",
       "       '1E50FCB9D758B845', 'DC5EBC31C22D87B8', 'BF1EB8E6FA3F19B8',\n",
       "       '624C4A19326EEE00', 'C8460FF8BEF553A4', 'F6785D85CBDA2BA6',\n",
       "       'A5B12BE38FEE8285', 'B36E6B833278E44D', '2B780373E58B31B1',\n",
       "       '47F15386932C0E17', '08527CAB99830384', 'FD18B77214097771',\n",
       "       'D45554BA350E10C4', 'C8BDDF5639850737', 'AAD4A279D0470A06',\n",
       "       'FEA0C585A53E7027', 'D9BAC4C97F9C107F', '52492BF2F4E36DE0',\n",
       "       'B5E7CF04B19BEE7F', 'B0244412983000C5', '020A95B66F363AFB',\n",
       "       'A09DFE27D4CFF8E8', '67129A7CF8DD659D', '53732758D90FB1E4',\n",
       "       '9C1CB5C40F8B47FA', '9744ED302F766733', 'F71DD44DAB783CEB',\n",
       "       '2CEC84A86958E639', 'A4593845C28990A0', '8025229CCC15FC7D',\n",
       "       '814737C35A55EC69', 'E8BBE017F65D7CEA', '29F21B1D6ECA38C8',\n",
       "       '693922FA03FC6666', '115ABCFDBDDB5950', '17774A79F6AF2037',\n",
       "       '5CA4A1CD95B82E02', '2ADFE50A050C49F4', 'B44FA1599E5095D7',\n",
       "       '627B91B2D548760C', '37D35A368E1996E1', '1AD9F88DA92AC4E5',\n",
       "       'ADED1B2A28BD2B7B', '2F07A29AFC72B680', 'BEF16764A13AEC34',\n",
       "       '7060BB1CBE3BAACC', '44A2A1E6CF2599A8', '9D7F535B9A8DE4F0',\n",
       "       '751BD72A948FC86C', 'AAB4D11666ADB943', '75845C83258FBF73',\n",
       "       '65D4F08120880611', 'A383BFC91C909D0E', '0AE6BB3A134DC281',\n",
       "       'D0D8873714077818', '762F7B71CE6B0BF0', '87FFD32D80DA1933',\n",
       "       '74995B52B7D313F9', '38188B7456DEB035', 'B79716591F903CBA',\n",
       "       '58EEC929BEEB234B', 'A7C2A44628D3D8B4', 'EBBE8317E9D7B490',\n",
       "       '49925103AE5C1CD0', 'B91C3B0B33F9788F', '6E15C5FAB89646B0',\n",
       "       '1C32919B0614E08B', 'C33D8C1C81C7AA23', 'DD5811571C7BBEB2',\n",
       "       '60BBC6BDA8F51E4C', 'F04B8BB68DE7D207', '4F27E0ECC98D9F89',\n",
       "       'B2A29A177F435D9E', '3F8981C8DA6F2E21', '2CC15FB4F021D006',\n",
       "       '5392D9E8F58D9E5F', '4664BF4717549775', '54E564A7253C7084',\n",
       "       '2784913F3447A9EE', 'EBE2130151519EF6', 'E09EE3450F1FDDEB',\n",
       "       'FE76759FE6BF8C68', 'DB4FD8EDE29B4ED7', '849E62FB58ECD9E8',\n",
       "       '3F8C780C616D46B6', '29A508F67F5E8D62', 'F52738C4461D426E',\n",
       "       '73992B0026104CE0', 'E8D19649BE5927B3', 'A678175F80A60139',\n",
       "       'A5E041918EF8B165', 'F358607127B3ED20', '9C2240EEE1D4AB2D',\n",
       "       '21EA4E846C63EEA2', 'C1751C71BDB1A6AF', 'C68A124C91E59F64',\n",
       "       '77E438939CEADFAB', 'F2A7DA882BF8ECD6', 'A121E8F760F7D482',\n",
       "       '729F6099B1B31935', 'AF9FD44E4FBE7A44', '8A401E7C2E0DAE58',\n",
       "       '51FDB0ADA53D0D48', '1D831F7D0F539AFA', 'D6B4574EE9574666',\n",
       "       '9232597CF9D85C19', '82F72EC6CDC1BA8F', '1E69D8DC3D22A02B',\n",
       "       '26A23E9CB4B57177', '0B08BA67D85527C5', 'E5C6DE0BA7722B11',\n",
       "       'B1E415298C5787E1', '4089CD204802F5F8', 'E3780F6861A69868',\n",
       "       'A5392D494EB71414', 'BD2BB02AB72267D5', '5A5D645876C5C692',\n",
       "       '89143F0AEFE3B11D', '3C46C1264F52F92C', 'C4B642E77C1442DC',\n",
       "       '058CE187A2C73865', 'C9E32DE296F68008', 'DA8F64F1377DDF18',\n",
       "       'F9B6AD71F73676ED', 'DD4731E5B4C9C4EB', 'FD11BEB17BD1E5F1',\n",
       "       '3A51DB52BBE78257', '972CBA9F98130D80', 'BAEFF105F449EDED',\n",
       "       'A63E656FACCE2303', '15462EF9B810E2CD', 'CC0357816B62C977',\n",
       "       'CD5FA63C961F184C', '9D5D1CAC16E9262D', 'E3BEB139D0839F91',\n",
       "       '8C69C35FB5E142F8', 'C6FF68D218AAC396', '557490F410B59932',\n",
       "       'B700678A073FBD5D', '5710EDF8BA684005', '5FE8A7964BFE9201',\n",
       "       'E2F9D9C5F177CBE9', '5E26340B4933987D', 'EAD7AC780F0CB611',\n",
       "       '0A5E3BE3C51CB47A', '7E1F03995B8C2DC0', '71434D2EBAD9AD9A',\n",
       "       '6CC231BB686AB3C4', '2429481BD8F59671', '0997EC1C4850B27B',\n",
       "       '7CBE6C0B1530D0C8', 'C4F3A9D7BB596E6E', '28D889F742D7CB1F',\n",
       "       '06C9AD50396A67F2', 'CA05B60C5BF619D0', 'A95172F80393487E',\n",
       "       '3EFC6AF8B370AD88', '1E7B931452B2F965', '2D6A6472D7F46812',\n",
       "       'E2E336528AB6202A', '2C022D871550873C', '6B2F1C6BC5BC9B47',\n",
       "       'F41AE8901C329009', 'C7CB2F1BA42F102B', '23A94E3928ADB4E4',\n",
       "       '846ABAF7694AA1A3', 'F7C023E1184B3A60', 'E32D4C0315D6BFBE',\n",
       "       'CDD54761A21E4B3E', 'D70753C4C0CC74B8', '90C84351AADBA89A',\n",
       "       '7BCB5C914C255ED8', '81EFF4E6138D3586', 'F76A4CA089865328',\n",
       "       'DBF9BDC859BC4459', '37F855E27F5889EA', '015D1E3BB893349D',\n",
       "       '921D101607DEEE2F', '5FF8B6AB257B404F', 'F37346E94569EA9E',\n",
       "       'C1760622B65C9B84', '3A98C2ECED38CAE6', '8AA7482655CA47FC',\n",
       "       'A3EDC1FFCB20AEAE', '7AAEBA41AC6EAFAC', '196E3C3541EB8BE1',\n",
       "       '27009E3A3E43AD21', 'A211DC1C36956844', '3925EA2F48E248E4',\n",
       "       '4168A14D44B0FCC6', '5813F642DCC5984A', '4E30D2D92227F2AA',\n",
       "       'DA701E53C4265D9C', 'A0ECB4825C9B8289', '2D12BC385E35EEDE',\n",
       "       '1DA6C04292381C64', 'A166EB9B55EE9564', 'C3666DF0F2EE66A9',\n",
       "       'A8533224E9384B16', 'A8C25A605F613665', 'DD9FB2652AE4ACBA',\n",
       "       'B91148EC45D3102A', '2E18075A4BC24CD4', '63EE6680860DF14E',\n",
       "       'C0924D3FF1BEAA05', 'E24BE751BAC2D204', 'FC2DA0D7EF375B27',\n",
       "       '604F9F5DB1EB8997', '34BB9070F9BB99E5', 'DA67854A4DE1A5B8',\n",
       "       '3AA81F3E2F88E1A6', '0FBF679EA1340786', 'D777C0574A824593',\n",
       "       '65A30CEC01FAB999', 'C1E43A9B1D675927', 'BFDBB7CCA1A2A714',\n",
       "       'CE264232AC9049B8', '89EF9F0C1676188A', '944F2EA14B199E8B',\n",
       "       '53D1ED34AA83F5DC', 'BABBC8868539BC31', '35D00DA6B6E15126',\n",
       "       '50221A8D91AB25CC', 'E391353FC3A4056D', 'E3A116CD863EF464',\n",
       "       '78745E80BA159887', '47ADBF580CF107E1', 'B4E3A220BEBACEA6',\n",
       "       '31EAD7E21AF728DF', '75013CAAF42E90A9', 'BE8EF48E1C8A03BB',\n",
       "       '6460D0D3A5C3CD78', 'A8C1429C2249A1C3', '3129E49EEC09310A',\n",
       "       '159C0D95194EA737', 'A9908F62C41613A8', '8D3BB23BB020C0B9',\n",
       "       'FE8F9858BBE502D9', '4CF756542084F860', 'C6CFFE9F0D5BC0BF',\n",
       "       '1576666870A32FCF', '6DB2AB2869590A63', '4122B8F30EB2271C',\n",
       "       '489B8E34D1E65CCA', 'C25DB0F67E2774B9', '34BBBAC1CCC0F4F9',\n",
       "       'DC24142B23D9FEDD', 'FC37CBE8211E02A8', 'C21237DC47AE00C5',\n",
       "       '1B52830A832D33F5', 'FDF5D9D1B047FA31', '75F76463A857DE8F',\n",
       "       'A980A65F42FB1BB4', '8FF8F87305BB9A7D', 'B0D0F552D955E773',\n",
       "       '3B6ABE8E7872977E', 'F1DBF417227551E7', '565EF59DDD36B95B',\n",
       "       '2874E1C3F517893F', '4CCCB20CC40A976D', 'C52FB4D6F3D456E1',\n",
       "       '7C67ABA421AF74D5', '646A1CB253D4C570', 'F733F037F547E44F',\n",
       "       '6B5A19F770BF79AC', '35E65D51E0B40283', 'A72233636D6FD5FC',\n",
       "       '84AAB026310D49C4', 'A5D8C583CD59B97A', '040DB681B8CFAACA',\n",
       "       'CBDE46A45FD5E6A4', '5EE31C4ABF5CB269', '4EB733A6B2C93533',\n",
       "       '54F0177D05FB6A17', '4EFB5E89AC11AC6D', '506686F95FE5FBE8',\n",
       "       '3243339CAFFA806B', 'BA98FD8F84C838C7', 'AF34780719AA1BA3',\n",
       "       '763DEEB7EA385F29', '9F50CF70D91DC29E', 'D2E647207224B3CB',\n",
       "       '3FAA6AD64C3B47E8', '7963560AC5D4166E', 'CBB70C31A7269CA7',\n",
       "       '4CB179C7F847320B', '5DBFFFECBC34B36F', 'ED384580319306F2',\n",
       "       'FC26F4B7727C205D', '13638CB4AAEB1B5F', 'FBF2BC40F3CCDC6F',\n",
       "       '8C66932374EF8009', '48526B8C7F8459FD', '5FED9C8EB157278D',\n",
       "       'E5C1C86BCE045D73', 'CA6F4DAED160E5B1', '4A3B017849076975',\n",
       "       '59D9BD2A3172D3F4', '4A53CB855B71A848', '92EFA54F7198BC87',\n",
       "       '2ED561987D6939F3', '18EF7332ACC0D12C', 'CEE4AB5EA4320CA2',\n",
       "       '2694629861CC9154', '5732FDB1C948FE26', 'CFE0C6DEB1908885',\n",
       "       '3766B1A346B48864', 'FC579467441F9567', '6AEA9F09C2B28850',\n",
       "       '72A5F7BBB75B5FB2', 'C31E27AB7B567CA9', '903EB4C51C70B12B',\n",
       "       '12AD54E437AB3BF5', '8FF91E21E27A330D', '36D0A362EFF0674D',\n",
       "       '10863662C3B5AB49', 'EBA69AB145E565D7', 'F1120FF762705B10',\n",
       "       'FAA76161402A6098', '82ADD32E61B5C939', '783BF6971403696B',\n",
       "       'CA371F6AE893F255', '4438A8DB1591E2FD', '25826F4FE6832AF1',\n",
       "       '1BA8A54DBDAE0EF4', 'D1B9C3897EF5E03C', '19AC976D25997BE9',\n",
       "       '9266418A9D2FA813', 'DF40EF85F55A958D', '82087A12CCB2F2AD',\n",
       "       'BF2613BE28381E56', 'B8AD3F6C5AA112E6', 'EC3A51AAF05B1EF4',\n",
       "       'B0664547D198BEBB', '53BF5C161381348E', 'D78FF240E6D237B6',\n",
       "       'F4C8BB8D1622FE87', '154228E9B2DA7F16', '2BA52189170823A5',\n",
       "       '2696B38BEF02E69E', 'AB30C03FCEC72466', '851F6015525A2374',\n",
       "       '1108CAC070E0CC12', '0B32395044303982', 'B82E8D69DF24D051',\n",
       "       '2C8FDB1E5FC06335', '894A2506B3A50D03', '7527401B46D4C6EC',\n",
       "       '5438D422A6A53E0E', 'B88758633AAFA177', 'B3059CB4FD2DE0FA',\n",
       "       '2C041C5AE92FC133', 'FD43AFAEA83A6A3F', '38170259A5DD6CB0',\n",
       "       '38EE0C9034617F2C', '779BFAE9CC61CABA', 'A907C114B5846EF0',\n",
       "       '5D1332CE7B9BA9EA', 'E0272BC86CC88DC7', 'DD5F3BB16B5FCD25',\n",
       "       '1198061F6AF34B7B', '86937E0EC8462E84', '4A953A8E62EE8D7B',\n",
       "       '0657ECDBA63E5FD6', 'AB0D9A9D709F476A', '207E61D6D4F44D97',\n",
       "       '38012A040FCFADEA', '825AED81399E5243', '140CCBBD1CD1DFF5',\n",
       "       'EE74DF20ED158133', 'BCDA2EA63E511751', '081E839841856A7A',\n",
       "       'B5DC591BA6B42056', '6627324ED71E6A4B', 'E923C28598AD9E74',\n",
       "       '5DC7C3CAD44668C8', '85BB3038A799195F', 'D12ED55A724F3A3D',\n",
       "       '078F8E9C7506AC9D', '669F197DC7EB4FD9', '597F7FD5AA3524D3',\n",
       "       '1B5394FBA4DA7E61', 'FFF28D02B1EACBE1', '8C0E932FB144D00F',\n",
       "       'E1EA339E17C0D568', '6BAE35235FB8D07D', 'F74B5B5FBD569D94',\n",
       "       '7262AA1B00E6A487', '14274CC0FEE00801', '5D13357620E57770',\n",
       "       '2FCC63EB9CB798BF', '9B73512578BB315B', '721A4432056BB43A',\n",
       "       '7BC59B90C9447C42', '2BECD18FD4C7B221', '8C0796AD09585779',\n",
       "       '07451D4C4C5A3A2B', 'AEB82217F3BE4263', 'E6911DABCAC3EFF2',\n",
       "       '49EA242586C87836', 'A76F046D8D47589E', '1190EEE1FA160468',\n",
       "       '6A07E9483E1D2638', '286A2902AD3A7159', 'CC7046CE9EB3E986',\n",
       "       '1F0A89BEDF27C7B2', 'C3B617427E6FF2A9', 'B28C8D3E19E8A789',\n",
       "       '67498C0E4D4F1697', '739656E0D7B50B30', '25B6EE0F91D32DB9',\n",
       "       'BC728999CBFCA4C4', 'CB0255E90DB0FED4', 'FD38A6D8AF786363',\n",
       "       '2905EDBC782A9E69', '2C702985A53C168B', '32BFB39666579FC1',\n",
       "       '8FDDB9B4E3FCB172', 'EA8341F38EFFE04C', '36FCA849A8CF677A',\n",
       "       'C7750723906C925A', 'C57EE2E8FCB5C551', 'F54F7DE3DCCD3BE6',\n",
       "       '204343649F72D01B', '13FBEB715F4AAE10', '3BDE2B9FBC14F7A4',\n",
       "       '2BA485C180999757', '4069A01CBE17EC56', '3DEA2F9B3EDA8B91',\n",
       "       'B2D168BAC367B509', '0B0C9CDFCA3EFF8A', '42FC1295136570BA',\n",
       "       '68A13C8A3E5FE18B', '16E66DD220E6B6F5', '3288BEE68559CC59',\n",
       "       '2C2BE85372033F77', '47670BA63871C10F', '3DE418D4A88944EA',\n",
       "       '47FD6B1D75C29C53', '3242BDDFA690A22B', 'DE98BA6D3814A6D4',\n",
       "       '379DD24A17E07C86', '7B9B363BD8BF23CE', 'F9945FBF588762BE',\n",
       "       '7DF21AEB1AA231F9', 'F8564F547AFFC0B9', '020F8E77125B9F7A',\n",
       "       '9A4FB81FE770A958', 'E9FACA4A16026FEE', '9F8C89A3EA69ED2C',\n",
       "       '5C24A7471540A8DC', 'A5ACC90F4E6C9D47', '4CC6ED6ECF5B43F6',\n",
       "       '7A6E345A0058C71B', '10C2A2FB00BD9AE2', '53558962449F6EDA',\n",
       "       'CC6C607F45AF7226', '107D9F8613EBF2AA', '005E096DBD379BCF',\n",
       "       'FA8706D1E274805E', '9B234D350E686A67', '9C63DB2A97C5A068',\n",
       "       '0A0141A363E2E051', '816B178B5481C936', 'FE244437A4224900',\n",
       "       'CBEFCA3BFDE4CC58', 'A6E6ECF8E4924633', '36D7F758BDA431D2',\n",
       "       'D87D9AFAB66866A7', '2139548144435929', 'C8ABA13613426B05',\n",
       "       '56B3A9FE78075122', 'F1B93BAE75EE0FB2', 'ABB61823786179CC',\n",
       "       'C845E42170625895', '93781EFB636DC017', '6DB33B4BBB294337',\n",
       "       'C3EEBF6DBC3384FA', 'D8DA1D568FCF46ED', '87C41A6F03A02CEA',\n",
       "       '681FEAB4C02403C9', '4ECCD93E1F247611', '928364C4C9F13FA8',\n",
       "       'B8AC521CB28510E7', '80D722A2C625E8B9', '8F8BF109EB38D329',\n",
       "       'EAF000D4CC7635B7', '067D05BD30F04F2E', 'E2638E6CF182BA09',\n",
       "       'E65F1C4C712CDC41', 'AA55A2BDAE39BECC', '68F3A9E7EE6B9249',\n",
       "       '430C998549E88DAE', '0225F4E8E0D98BA4', 'AF9F2C81B670018D',\n",
       "       '0E24E4F981343864', '55212FE14BE9ACF4', '22092C653019E91C',\n",
       "       'BE0FDC8CC0D5455D', '07234E37400E061A', '934F4410153B7733',\n",
       "       'C5B80CE5D26813CF', 'FB1D495CFBB160A5', '0FC3C8BC1348A405',\n",
       "       'C76AB3B4FB0A87B6', 'BA9906DF9975512E', '13497F441BC81020',\n",
       "       '573EF5CB449265BE', '45D3EB623C011843', 'D2E8867C96A7A7C2',\n",
       "       '2A114ED4FE2F5FED', '1F9DC208CBE98188', 'D1DFCE26FF3C713F',\n",
       "       '5AD69B0E2A6917BE', '195A50C42B7AC072', 'C865891D80127AB8',\n",
       "       '1353B1C2F6E6AA4E', '9868DEF9E0B7E2C4', '9806C418D189F7DB',\n",
       "       'E7CC63BF20618321', '8E0712757CE41DE4', '05E16C38500EA1BF',\n",
       "       '89545C7F903DBA34', '4FE90CB247C78EC5', 'D1C856B2FF888582',\n",
       "       'C74B6E95352ADE79', '3BB8C637AE50D857', 'C56A31CE1C750E9B',\n",
       "       'F0008E8F3F8473B7', '4663CB986E6F41CB', '5673140CA30564D5',\n",
       "       '84EB34779A251529', 'AEA23731D3DEA24E', '57442DD4178AFE27',\n",
       "       'DAEE6D470B64E11B', 'ED9338C2AA166F42', 'B956889B759F3E32',\n",
       "       'A3D5BA3E276CD84C', '87A03DDFFEC09B4B', 'DF92EED159FF08F1',\n",
       "       'C71DD605BCB6F572', '13AE4DFAC67ACEB3', '6610064A4B2303D1',\n",
       "       '30D6A716BEDA75C8', 'C2A2B2ADB29B8D74', 'D2BF86D9C385D6B9',\n",
       "       '4F7E0D9A5A563B2C', 'C8CC09A84EE660A6', 'EBBB856F2919A55E',\n",
       "       '04C99B9CE33D500A', '71ADB3578AAA4E0F', '43BA33CDED9F1870',\n",
       "       '01B0B891CA513468', '7E8720DB6A21CF66', '3A74E4032706FD0E',\n",
       "       '47A4DAD2DBC2DDA0', 'CD2B9FD5762EE039', 'F4BEF7B9C8172E36',\n",
       "       'C9F4E51F24E6BCE1', '064FE8E188AB79E1', '6B2129E0A61D65F3',\n",
       "       'FD348F3ADE080914', 'FF8CF7057415EB29', '8F4577B4DEEAD5E1',\n",
       "       '1AA371B503596160', 'C89E24F4C723CEF4', '6184849918C8A94A',\n",
       "       '98D76B1341378191', 'A7CFA651E8B0B21D', '249230DC3628A7AE',\n",
       "       '74A3959A86B9E7DE', '5469FE1682F958AD', 'AA0D36EF3DBFCC9F',\n",
       "       'D439FE97E8B225CA', 'EA6EA431FF84563B', 'C2025648F77BD80B',\n",
       "       '7B8E8C3A8DAFC3B3', '967680A9D7C9AFD1', 'B5F49BFBDAB1AE0A',\n",
       "       '88FB1EDF3E249223', 'E26CE7138789A7AF', 'EE9E527A761299B2',\n",
       "       '6C487B4E73B87CEC', 'E94300A96CAE1286', 'A27BAA0CE8FC4E80',\n",
       "       '6A581C74EF4D5F44', '7D8970118A695D48', '253B8CBFA95E4831',\n",
       "       '479E6B3F54CD82C1', '8D46D7EB5112DC9D', '98D45D3A9D7E3911',\n",
       "       '8C4DEDB74D124479', 'DDF23E1CEC60F6C5', 'CBC034EE5345D8BD',\n",
       "       'DB515BDBB3A17F21', '505E92C9CEC5651B', '23E633E92EDCD195',\n",
       "       'D2ACA8F6E2C79C02', '8A5B1371A80F5F08', '9D1D9DC5D81268AC',\n",
       "       '92701F9DF59DC422', '8DE56E6BDA5F54AC', 'C9E2691EAD9EF4BB',\n",
       "       '458CCC7F2073F056', 'A2A4028F3D47618F', '94FF90F8FBAB959D',\n",
       "       'C8AFE8BD75F501D3', 'A244B2AA7F792F5B', 'E659A40ADD2D4E31',\n",
       "       '5B1F39B5D751B669', '47989B6EAE8FC21A', '2D2505BC6550D1A5',\n",
       "       '6E70E8AF0F6F0B0A', 'A4E5755E0F7B094D', '6C5F66E22B261A59',\n",
       "       '1D7745C3BC072443', '4B34A5BD1D1AEF0D', '38189578561F38CB',\n",
       "       '3CEAD3B2689F935F', '29FB97985AB0E005', 'AE49EDDFB9DABE03',\n",
       "       'D182471A77C0DC13', '9036DBDE7AF034E8', '4CFBECEF398176DA',\n",
       "       '70CE04E185154AD7', 'FBF31896CD930197', 'E460AD40A8316D83',\n",
       "       '1AA90C1AD5727610', '0240DB73D9B6F136', '0C2E77C6A381704A',\n",
       "       'E6AAFF21D051CC65', 'C35736DF94A57E7F', '8C2514E54F237231',\n",
       "       'C04E36E535A6F740', '139519F1ADB40E0D', '7678DE773058E621',\n",
       "       'AEA31CD1CFE4CAFF', 'CF03E97B314C5632', '8C0C9BBA51E96C48',\n",
       "       'A7FC7DB6B369C3EC', 'ED9745F4A0B682B8', '13AA9B89A2885F8E',\n",
       "       'A8C5F4D253DCEF2F', 'BBE0583F0240AABB', '69924C768EE3374C',\n",
       "       'DE4E1B6A308054BB', '0F13D8C2809AD613', '31D4A79415209872',\n",
       "       'B9B14AC83D70BFAF', '6283982213115DF1', '104E2E7457341647',\n",
       "       'AD6416B175EC960F', '886E52074D084B18', 'C2398EA0078EA63A',\n",
       "       '993BDE69A0DE0391', '98998C6963A8E711', '3F52D53AB33C9FD6',\n",
       "       '88CA8D05871DCAD0', '5B671D912F9D48BE', '1E13C534BAFB6863',\n",
       "       '582542A18470BABD', 'B8F5A3560F2DF46E', '5E0FE312B9349ADB',\n",
       "       '7342090A9E50B657', 'C48127E2FA8D4F18', '80C064F310B42A26',\n",
       "       'DFAC7CE2CD124C44', '8FC9D1BB3017BE66', '609EBA439CB96E0D',\n",
       "       '1BD87764BD9A6DA9', 'AEE24B6142A3C431', '72742C5F312A1FEC',\n",
       "       'EAE7A5BE3C3D93B8', 'D928E12DD731B2EE', 'C63A3391234404AA',\n",
       "       '1AE6FF352875CA8C', '33F738F2E16C7148', 'DBFF94F143546A7B',\n",
       "       '05DCEB320AC0EE44', '37094134968B2013', '8FBAEB717ABA3930',\n",
       "       'DF79393DADE71EF6', 'BA5C51269356E223', 'BE0B27E01E989545',\n",
       "       '115EBC1CA027854A', '87B112DF92E5A3BA', '649CE5D5A38BFA8B',\n",
       "       '5E4209899B451FE6', 'A7A974614BE56B55', 'B4CB05160392ACF1',\n",
       "       'D12A5C7D0C2AFCE6', '311FCC81715F1527', 'DEC8CD55F35F2087',\n",
       "       '41EDEEC440887B2C', 'B582D211C1BE1FFD', '3A6D88AB973BD99D',\n",
       "       '9B8BFBACE614F651', 'FCF9CA847EFA5A92', '42D55CBE2573F543',\n",
       "       '58E6F67F64314776', '60FDFC4A00CAB216', '37A0A1F3FB2F01F4',\n",
       "       '52EEF8198C6E61BF', '3AA6C28F10567038', '99A730464C4BB13C',\n",
       "       '45DE943E2DA6C76A', 'E68002AA33773AD5', '015FF3EC72C1F4F6',\n",
       "       '7A504D510F9703FB', '23205E99B25B545C', '23A39EC2E3E4E696',\n",
       "       'A7CA7B2555BA40BB', 'EE25BC8FA059151D', '3B2E143C88C88B0B',\n",
       "       '10EA2E44272E32A8', 'E77F99BCF9D8AB96', '9F0E22D845D144F7',\n",
       "       '11A1086B49B881A4', '041A378AB2EF158C', '163AEC3F3F526473',\n",
       "       'D0A71F8A3DB05F2E', '7641D28D9643B736', '8FFA1D6F89AAEA40',\n",
       "       '181181D6E7BA82B4', '4CB1497EA4EACE82', '5B05449E69A2AD9E',\n",
       "       'FB75493CD55739BA', '742C0E363D2C9EA7', '5E6B0B086089C4CF',\n",
       "       'A640F31CAC7823A6', '1483A885AEBD96D1', '9F614F2788F85C78',\n",
       "       '66C940F046100DE1', '70EA584CA13EC431', '819449F677945F98',\n",
       "       '140983468780190D', 'A35BD08F60AC00B8', 'E774D36D798A6EAB',\n",
       "       'C90BE197FEC95F6B', 'D9174AA9072D74C6', 'D40A89E14F1C10BD',\n",
       "       '105D8E7444D335A5', '4337C3C626A39EEA', '63F5FC15B31DB5A6',\n",
       "       '576F0756184C8DB1', '45F097E1C6D2086E', '81452D23C646026D',\n",
       "       '9BD9E79856D54059', 'C55B99558E2E6AA4', 'BD23AF6242CA944B',\n",
       "       'FC1EFACE9FFE5A2E', '4BE0D1FE6CDDA1D6', '24FB1A84E1C30291',\n",
       "       '9B3DEB6615CFFE54', 'FCA4F49B1A82FA6C', 'DD4352CDCF8C3D57',\n",
       "       '40233E9A96CDF1EF', 'AD10DCB9478768CA', 'D6924B9AB9903228',\n",
       "       '7FE6C2826EC9B2D7', 'F28400AFB5C8E54C', '6C9496D8B48FA426',\n",
       "       '4DEF1832B1E0343A', '835ABFF5102EAB9C', '20285349F62230E9',\n",
       "       '44037F187E376CD3', '095433767F103AC4', '9918D1C354A1383A',\n",
       "       '57E796E81DD60883', 'FCC7708934D68F24', '5207E56E697027E9',\n",
       "       '6786C23A54D59DD4', '8675E29E9C0ABDC5', '8F72F2114F2D5184',\n",
       "       'DBABEBD3E6706F81', '700E7D23A9A81AE3', '91C3969B8A72B908',\n",
       "       '95401934D6D6D4FC'], dtype=object)"
      ]
     },
     "metadata": {},
     "output_type": "display_data"
    }
   ],
   "source": [
    "users_b = events_b[['user_id']]\n",
    "#users_b = users_b.rename(columns={ 'user_id':'users_b'})\n",
    "#users_b = users_b['users_b'].unique()\n",
    "users_b = users_b['user_id'].unique()\n",
    "display(users_b)\n"
   ]
  },
  {
   "cell_type": "code",
   "execution_count": 35,
   "metadata": {},
   "outputs": [
    {
     "data": {
      "text/plain": [
       "array(['D1ABA3E2887B6A73', 'A7A3664BD6242119', 'DABC14FDDFADD29E', ...,\n",
       "       '7C5C12FA1B5AB710', 'E26F13A65CEAC6EA', '80712ED4EA1B52A5'],\n",
       "      dtype=object)"
      ]
     },
     "metadata": {},
     "output_type": "display_data"
    }
   ],
   "source": [
    "\n",
    "users_a = events_a[['user_id']]\n",
    "users_a = users_a['user_id'].unique()\n",
    "display(users_a)"
   ]
  },
  {
   "cell_type": "code",
   "execution_count": 36,
   "metadata": {},
   "outputs": [
    {
     "name": "stdout",
     "output_type": "stream",
     "text": [
      "set()\n"
     ]
    }
   ],
   "source": [
    "repetidos_users = set(users_a).intersection(users_b)\n",
    "print(repetidos_users)"
   ]
  },
  {
   "cell_type": "code",
   "execution_count": 37,
   "metadata": {},
   "outputs": [
    {
     "name": "stdout",
     "output_type": "stream",
     "text": [
      "[]\n"
     ]
    }
   ],
   "source": [
    "comunes = np.intersect1d(users_a,users_b)\n",
    "print(comunes)"
   ]
  },
  {
   "cell_type": "code",
   "execution_count": 38,
   "metadata": {},
   "outputs": [
    {
     "data": {
      "text/html": [
       "<div>\n",
       "<style scoped>\n",
       "    .dataframe tbody tr th:only-of-type {\n",
       "        vertical-align: middle;\n",
       "    }\n",
       "\n",
       "    .dataframe tbody tr th {\n",
       "        vertical-align: top;\n",
       "    }\n",
       "\n",
       "    .dataframe thead th {\n",
       "        text-align: right;\n",
       "    }\n",
       "</style>\n",
       "<table border=\"1\" class=\"dataframe\">\n",
       "  <thead>\n",
       "    <tr style=\"text-align: right;\">\n",
       "      <th></th>\n",
       "      <th>user_id</th>\n",
       "      <th>event_dt</th>\n",
       "      <th>event_name</th>\n",
       "      <th>details</th>\n",
       "    </tr>\n",
       "  </thead>\n",
       "  <tbody>\n",
       "  </tbody>\n",
       "</table>\n",
       "</div>"
      ],
      "text/plain": [
       "Empty DataFrame\n",
       "Columns: [user_id, event_dt, event_name, details]\n",
       "Index: []"
      ]
     },
     "execution_count": 38,
     "metadata": {},
     "output_type": "execute_result"
    }
   ],
   "source": [
    "#Se busca un valor aleatorio de los usuarios A en B para comprobrar.\n",
    "comp = events_b[events_b['user_id'] == 'E26F13A65CEAC6EA']\n",
    "comp"
   ]
  },
  {
   "cell_type": "markdown",
   "metadata": {},
   "source": [
    "## Respuesta:\n",
    "No se tienen usuarios que se presenten en el Grupo A y en el Grupo B, que sean iguales."
   ]
  },
  {
   "cell_type": "markdown",
   "metadata": {},
   "source": [
    "### ¿Cómo se distribuye el número de eventos entre los días?"
   ]
  },
  {
   "cell_type": "code",
   "execution_count": 39,
   "metadata": {},
   "outputs": [
    {
     "name": "stdout",
     "output_type": "stream",
     "text": [
      "<class 'pandas.core.frame.DataFrame'>\n",
      "RangeIndex: 17670 entries, 0 to 17669\n",
      "Data columns (total 4 columns):\n",
      " #   Column      Non-Null Count  Dtype         \n",
      "---  ------      --------------  -----         \n",
      " 0   user_id     17670 non-null  object        \n",
      " 1   event_dt    17670 non-null  datetime64[ns]\n",
      " 2   event_name  17670 non-null  object        \n",
      " 3   details     2430 non-null   float64       \n",
      "dtypes: datetime64[ns](1), float64(1), object(2)\n",
      "memory usage: 552.3+ KB\n"
     ]
    }
   ],
   "source": [
    "events_a.info()"
   ]
  },
  {
   "cell_type": "code",
   "execution_count": 40,
   "metadata": {},
   "outputs": [
    {
     "data": {
      "image/png": "[encoded data removed]",
      "text/plain": [
       "<Figure size 1000x600 with 1 Axes>"
      ]
     },
     "metadata": {},
     "output_type": "display_data"
    }
   ],
   "source": [
    "#agrupar\n",
    "events_dat_groupA = events_a.groupby(events_a['event_dt'].dt.date)['event_name'].count() \n",
    "#Histrograma\n",
    "\n",
    "plt.figure(figsize = (10,6))\n",
    "events_dat_groupA.plot(kind='bar',color='skyblue')\n",
    "plt.title('Distribución de Eventos Grupo A por día')\n",
    "plt.show()"
   ]
  },
  {
   "cell_type": "code",
   "execution_count": 41,
   "metadata": {},
   "outputs": [
    {
     "data": {
      "image/png": "[encoded data removed]",
      "text/plain": [
       "<Figure size 1000x600 with 1 Axes>"
      ]
     },
     "metadata": {},
     "output_type": "display_data"
    }
   ],
   "source": [
    "#agrupar\n",
    "events_dat_groupB = events_b.groupby(events_b['event_dt'].dt.date)['event_name'].count() \n",
    "#Histrograma\n",
    "\n",
    "plt.figure(figsize = (10,6))\n",
    "events_dat_groupB.plot(kind='bar',color='red')\n",
    "plt.title('Distribución de Eventos Grupo B por día')\n",
    "plt.show()"
   ]
  },
  {
   "cell_type": "code",
   "execution_count": 42,
   "metadata": {},
   "outputs": [
    {
     "data": {
      "image/png": "[encoded data removed]",
      "text/plain": [
       "<Figure size 1500x600 with 2 Axes>"
      ]
     },
     "metadata": {},
     "output_type": "display_data"
    }
   ],
   "source": [
    "# Agrupar datos\n",
    "events_dat_groupB = events_b.groupby(events_b['event_dt'].dt.date)['event_name'].count()\n",
    "events_dat_groupA = events_a.groupby(events_a['event_dt'].dt.date)['event_name'].count()\n",
    "\n",
    "# Crear los subplots en una fila\n",
    "fig, axes = plt.subplots(1, 2, figsize=(15, 6))\n",
    "\n",
    "# Histograma para el Grupo B\n",
    "events_dat_groupB.plot(kind='bar', color='red', ax=axes[0])\n",
    "axes[0].set_title('Distribución de Eventos Grupo B por día')\n",
    "\n",
    "# Histograma para el Grupo A\n",
    "events_dat_groupA.plot(kind='bar', color='skyblue', ax=axes[1])\n",
    "axes[1].set_title('Distribución de Eventos Grupo A por día')\n",
    "\n",
    "# Mostrar los gráficos\n",
    "plt.tight_layout()\n",
    "plt.show()\n"
   ]
  },
  {
   "cell_type": "code",
   "execution_count": 43,
   "metadata": {},
   "outputs": [
    {
     "data": {
      "application/vnd.plotly.v1+json": {
       "config": {
        "plotlyServerURL": "https://plot.ly"
       },
       "data": [
        {
         "marker": {
          "color": [
           "#636EFA",
           "#EF553B",
           "#00CC96",
           "#AB63FA",
           "#FFA15A"
          ]
         },
         "text": [
          100,
          64.27,
          46.61907594685703,
          103.36027222458529
         ],
         "textinfo": "label+value+percent previous",
         "type": "funnel",
         "x": [
          7846,
          5043,
          2351,
          2430
         ],
         "xaxis": "x",
         "y": [
          "1_login",
          "2_product_page",
          "3_product_cart",
          "4_purchase"
         ],
         "yaxis": "y"
        },
        {
         "marker": {
          "color": [
           "#636EFA",
           "#EF553B",
           "#00CC96",
           "#AB63FA",
           "#FFA15A"
          ]
         },
         "text": [
          100,
          53.71,
          49.575944487278335,
          100.93312597200621
         ],
         "textinfo": "label+value+percent previous",
         "type": "funnel",
         "x": [
          2415,
          1297,
          643,
          649
         ],
         "xaxis": "x2",
         "y": [
          "1_login",
          "2_product_page",
          "3_product_cart",
          "4_purchase"
         ],
         "yaxis": "y2"
        }
       ],
       "layout": {
        "annotations": [
         {
          "font": {
           "size": 16
          },
          "showarrow": false,
          "text": "Embudo de Conversión Grupo A",
          "x": 0.225,
          "xanchor": "center",
          "xref": "paper",
          "y": 1,
          "yanchor": "bottom",
          "yref": "paper"
         },
         {
          "font": {
           "size": 16
          },
          "showarrow": false,
          "text": "Embudo de Conversión Grupo B",
          "x": 0.775,
          "xanchor": "center",
          "xref": "paper",
          "y": 1,
          "yanchor": "bottom",
          "yref": "paper"
         }
        ],
        "showlegend": false,
        "template": {
         "data": {
          "bar": [
           {
            "error_x": {
             "color": "#2a3f5f"
            },
            "error_y": {
             "color": "#2a3f5f"
            },
            "marker": {
             "line": {
              "color": "#E5ECF6",
              "width": 0.5
             },
             "pattern": {
              "fillmode": "overlay",
              "size": 10,
              "solidity": 0.2
             }
            },
            "type": "bar"
           }
          ],
          "barpolar": [
           {
            "marker": {
             "line": {
              "color": "#E5ECF6",
              "width": 0.5
             },
             "pattern": {
              "fillmode": "overlay",
              "size": 10,
              "solidity": 0.2
             }
            },
            "type": "barpolar"
           }
          ],
          "carpet": [
           {
            "aaxis": {
             "endlinecolor": "#2a3f5f",
             "gridcolor": "white",
             "linecolor": "white",
             "minorgridcolor": "white",
             "startlinecolor": "#2a3f5f"
            },
            "baxis": {
             "endlinecolor": "#2a3f5f",
             "gridcolor": "white",
             "linecolor": "white",
             "minorgridcolor": "white",
             "startlinecolor": "#2a3f5f"
            },
            "type": "carpet"
           }
          ],
          "choropleth": [
           {
            "colorbar": {
             "outlinewidth": 0,
             "ticks": ""
            },
            "type": "choropleth"
           }
          ],
          "contour": [
           {
            "colorbar": {
             "outlinewidth": 0,
             "ticks": ""
            },
            "colorscale": [
             [
              0,
              "#0d0887"
             ],
             [
              0.1111111111111111,
              "#46039f"
             ],
             [
              0.2222222222222222,
              "#7201a8"
             ],
             [
              0.3333333333333333,
              "#9c179e"
             ],
             [
              0.4444444444444444,
              "#bd3786"
             ],
             [
              0.5555555555555556,
              "#d8576b"
             ],
             [
              0.6666666666666666,
              "#ed7953"
             ],
             [
              0.7777777777777778,
              "#fb9f3a"
             ],
             [
              0.8888888888888888,
              "#fdca26"
             ],
             [
              1,
              "#f0f921"
             ]
            ],
            "type": "contour"
           }
          ],
          "contourcarpet": [
           {
            "colorbar": {
             "outlinewidth": 0,
             "ticks": ""
            },
            "type": "contourcarpet"
           }
          ],
          "heatmap": [
           {
            "colorbar": {
             "outlinewidth": 0,
             "ticks": ""
            },
            "colorscale": [
             [
              0,
              "#0d0887"
             ],
             [
              0.1111111111111111,
              "#46039f"
             ],
             [
              0.2222222222222222,
              "#7201a8"
             ],
             [
              0.3333333333333333,
              "#9c179e"
             ],
             [
              0.4444444444444444,
              "#bd3786"
             ],
             [
              0.5555555555555556,
              "#d8576b"
             ],
             [
              0.6666666666666666,
              "#ed7953"
             ],
             [
              0.7777777777777778,
              "#fb9f3a"
             ],
             [
              0.8888888888888888,
              "#fdca26"
             ],
             [
              1,
              "#f0f921"
             ]
            ],
            "type": "heatmap"
           }
          ],
          "heatmapgl": [
           {
            "colorbar": {
             "outlinewidth": 0,
             "ticks": ""
            },
            "colorscale": [
             [
              0,
              "#0d0887"
             ],
             [
              0.1111111111111111,
              "#46039f"
             ],
             [
              0.2222222222222222,
              "#7201a8"
             ],
             [
              0.3333333333333333,
              "#9c179e"
             ],
             [
              0.4444444444444444,
              "#bd3786"
             ],
             [
              0.5555555555555556,
              "#d8576b"
             ],
             [
              0.6666666666666666,
              "#ed7953"
             ],
             [
              0.7777777777777778,
              "#fb9f3a"
             ],
             [
              0.8888888888888888,
              "#fdca26"
             ],
             [
              1,
              "#f0f921"
             ]
            ],
            "type": "heatmapgl"
           }
          ],
          "histogram": [
           {
            "marker": {
             "pattern": {
              "fillmode": "overlay",
              "size": 10,
              "solidity": 0.2
             }
            },
            "type": "histogram"
           }
          ],
          "histogram2d": [
           {
            "colorbar": {
             "outlinewidth": 0,
             "ticks": ""
            },
            "colorscale": [
             [
              0,
              "#0d0887"
             ],
             [
              0.1111111111111111,
              "#46039f"
             ],
             [
              0.2222222222222222,
              "#7201a8"
             ],
             [
              0.3333333333333333,
              "#9c179e"
             ],
             [
              0.4444444444444444,
              "#bd3786"
             ],
             [
              0.5555555555555556,
              "#d8576b"
             ],
             [
              0.6666666666666666,
              "#ed7953"
             ],
             [
              0.7777777777777778,
              "#fb9f3a"
             ],
             [
              0.8888888888888888,
              "#fdca26"
             ],
             [
              1,
              "#f0f921"
             ]
            ],
            "type": "histogram2d"
           }
          ],
          "histogram2dcontour": [
           {
            "colorbar": {
             "outlinewidth": 0,
             "ticks": ""
            },
            "colorscale": [
             [
              0,
              "#0d0887"
             ],
             [
              0.1111111111111111,
              "#46039f"
             ],
             [
              0.2222222222222222,
              "#7201a8"
             ],
             [
              0.3333333333333333,
              "#9c179e"
             ],
             [
              0.4444444444444444,
              "#bd3786"
             ],
             [
              0.5555555555555556,
              "#d8576b"
             ],
             [
              0.6666666666666666,
              "#ed7953"
             ],
             [
              0.7777777777777778,
              "#fb9f3a"
             ],
             [
              0.8888888888888888,
              "#fdca26"
             ],
             [
              1,
              "#f0f921"
             ]
            ],
            "type": "histogram2dcontour"
           }
          ],
          "mesh3d": [
           {
            "colorbar": {
             "outlinewidth": 0,
             "ticks": ""
            },
            "type": "mesh3d"
           }
          ],
          "parcoords": [
           {
            "line": {
             "colorbar": {
              "outlinewidth": 0,
              "ticks": ""
             }
            },
            "type": "parcoords"
           }
          ],
          "pie": [
           {
            "automargin": true,
            "type": "pie"
           }
          ],
          "scatter": [
           {
            "fillpattern": {
             "fillmode": "overlay",
             "size": 10,
             "solidity": 0.2
            },
            "type": "scatter"
           }
          ],
          "scatter3d": [
           {
            "line": {
             "colorbar": {
              "outlinewidth": 0,
              "ticks": ""
             }
            },
            "marker": {
             "colorbar": {
              "outlinewidth": 0,
              "ticks": ""
             }
            },
            "type": "scatter3d"
           }
          ],
          "scattercarpet": [
           {
            "marker": {
             "colorbar": {
              "outlinewidth": 0,
              "ticks": ""
             }
            },
            "type": "scattercarpet"
           }
          ],
          "scattergeo": [
           {
            "marker": {
             "colorbar": {
              "outlinewidth": 0,
              "ticks": ""
             }
            },
            "type": "scattergeo"
           }
          ],
          "scattergl": [
           {
            "marker": {
             "colorbar": {
              "outlinewidth": 0,
              "ticks": ""
             }
            },
            "type": "scattergl"
           }
          ],
          "scattermapbox": [
           {
            "marker": {
             "colorbar": {
              "outlinewidth": 0,
              "ticks": ""
             }
            },
            "type": "scattermapbox"
           }
          ],
          "scatterpolar": [
           {
            "marker": {
             "colorbar": {
              "outlinewidth": 0,
              "ticks": ""
             }
            },
            "type": "scatterpolar"
           }
          ],
          "scatterpolargl": [
           {
            "marker": {
             "colorbar": {
              "outlinewidth": 0,
              "ticks": ""
             }
            },
            "type": "scatterpolargl"
           }
          ],
          "scatterternary": [
           {
            "marker": {
             "colorbar": {
              "outlinewidth": 0,
              "ticks": ""
             }
            },
            "type": "scatterternary"
           }
          ],
          "surface": [
           {
            "colorbar": {
             "outlinewidth": 0,
             "ticks": ""
            },
            "colorscale": [
             [
              0,
              "#0d0887"
             ],
             [
              0.1111111111111111,
              "#46039f"
             ],
             [
              0.2222222222222222,
              "#7201a8"
             ],
             [
              0.3333333333333333,
              "#9c179e"
             ],
             [
              0.4444444444444444,
              "#bd3786"
             ],
             [
              0.5555555555555556,
              "#d8576b"
             ],
             [
              0.6666666666666666,
              "#ed7953"
             ],
             [
              0.7777777777777778,
              "#fb9f3a"
             ],
             [
              0.8888888888888888,
              "#fdca26"
             ],
             [
              1,
              "#f0f921"
             ]
            ],
            "type": "surface"
           }
          ],
          "table": [
           {
            "cells": {
             "fill": {
              "color": "#EBF0F8"
             },
             "line": {
              "color": "white"
             }
            },
            "header": {
             "fill": {
              "color": "#C8D4E3"
             },
             "line": {
              "color": "white"
             }
            },
            "type": "table"
           }
          ]
         },
         "layout": {
          "annotationdefaults": {
           "arrowcolor": "#2a3f5f",
           "arrowhead": 0,
           "arrowwidth": 1
          },
          "autotypenumbers": "strict",
          "coloraxis": {
           "colorbar": {
            "outlinewidth": 0,
            "ticks": ""
           }
          },
          "colorscale": {
           "diverging": [
            [
             0,
             "#8e0152"
            ],
            [
             0.1,
             "#c51b7d"
            ],
            [
             0.2,
             "#de77ae"
            ],
            [
             0.3,
             "#f1b6da"
            ],
            [
             0.4,
             "#fde0ef"
            ],
            [
             0.5,
             "#f7f7f7"
            ],
            [
             0.6,
             "#e6f5d0"
            ],
            [
             0.7,
             "#b8e186"
            ],
            [
             0.8,
             "#7fbc41"
            ],
            [
             0.9,
             "#4d9221"
            ],
            [
             1,
             "#276419"
            ]
           ],
           "sequential": [
            [
             0,
             "#0d0887"
            ],
            [
             0.1111111111111111,
             "#46039f"
            ],
            [
             0.2222222222222222,
             "#7201a8"
            ],
            [
             0.3333333333333333,
             "#9c179e"
            ],
            [
             0.4444444444444444,
             "#bd3786"
            ],
            [
             0.5555555555555556,
             "#d8576b"
            ],
            [
             0.6666666666666666,
             "#ed7953"
            ],
            [
             0.7777777777777778,
             "#fb9f3a"
            ],
            [
             0.8888888888888888,
             "#fdca26"
            ],
            [
             1,
             "#f0f921"
            ]
           ],
           "sequentialminus": [
            [
             0,
             "#0d0887"
            ],
            [
             0.1111111111111111,
             "#46039f"
            ],
            [
             0.2222222222222222,
             "#7201a8"
            ],
            [
             0.3333333333333333,
             "#9c179e"
            ],
            [
             0.4444444444444444,
             "#bd3786"
            ],
            [
             0.5555555555555556,
             "#d8576b"
            ],
            [
             0.6666666666666666,
             "#ed7953"
            ],
            [
             0.7777777777777778,
             "#fb9f3a"
            ],
            [
             0.8888888888888888,
             "#fdca26"
            ],
            [
             1,
             "#f0f921"
            ]
           ]
          },
          "colorway": [
           "#636efa",
           "#EF553B",
           "#00cc96",
           "#ab63fa",
           "#FFA15A",
           "#19d3f3",
           "#FF6692",
           "#B6E880",
           "#FF97FF",
           "#FECB52"
          ],
          "font": {
           "color": "#2a3f5f"
          },
          "geo": {
           "bgcolor": "white",
           "lakecolor": "white",
           "landcolor": "#E5ECF6",
           "showlakes": true,
           "showland": true,
           "subunitcolor": "white"
          },
          "hoverlabel": {
           "align": "left"
          },
          "hovermode": "closest",
          "mapbox": {
           "style": "light"
          },
          "paper_bgcolor": "white",
          "plot_bgcolor": "#E5ECF6",
          "polar": {
           "angularaxis": {
            "gridcolor": "white",
            "linecolor": "white",
            "ticks": ""
           },
           "bgcolor": "#E5ECF6",
           "radialaxis": {
            "gridcolor": "white",
            "linecolor": "white",
            "ticks": ""
           }
          },
          "scene": {
           "xaxis": {
            "backgroundcolor": "#E5ECF6",
            "gridcolor": "white",
            "gridwidth": 2,
            "linecolor": "white",
            "showbackground": true,
            "ticks": "",
            "zerolinecolor": "white"
           },
           "yaxis": {
            "backgroundcolor": "#E5ECF6",
            "gridcolor": "white",
            "gridwidth": 2,
            "linecolor": "white",
            "showbackground": true,
            "ticks": "",
            "zerolinecolor": "white"
           },
           "zaxis": {
            "backgroundcolor": "#E5ECF6",
            "gridcolor": "white",
            "gridwidth": 2,
            "linecolor": "white",
            "showbackground": true,
            "ticks": "",
            "zerolinecolor": "white"
           }
          },
          "shapedefaults": {
           "line": {
            "color": "#2a3f5f"
           }
          },
          "ternary": {
           "aaxis": {
            "gridcolor": "white",
            "linecolor": "white",
            "ticks": ""
           },
           "baxis": {
            "gridcolor": "white",
            "linecolor": "white",
            "ticks": ""
           },
           "bgcolor": "#E5ECF6",
           "caxis": {
            "gridcolor": "white",
            "linecolor": "white",
            "ticks": ""
           }
          },
          "title": {
           "x": 0.05
          },
          "xaxis": {
           "automargin": true,
           "gridcolor": "white",
           "linecolor": "white",
           "ticks": "",
           "title": {
            "standoff": 15
           },
           "zerolinecolor": "white",
           "zerolinewidth": 2
          },
          "yaxis": {
           "automargin": true,
           "gridcolor": "white",
           "linecolor": "white",
           "ticks": "",
           "title": {
            "standoff": 15
           },
           "zerolinecolor": "white",
           "zerolinewidth": 2
          }
         }
        },
        "title": {
         "text": "Embudo de Conversión Comparativo: Grupo A vs Grupo B"
        },
        "xaxis": {
         "anchor": "y",
         "domain": [
          0,
          0.45
         ]
        },
        "xaxis2": {
         "anchor": "y2",
         "domain": [
          0.55,
          1
         ]
        },
        "yaxis": {
         "anchor": "x",
         "domain": [
          0,
          1
         ]
        },
        "yaxis2": {
         "anchor": "x2",
         "domain": [
          0,
          1
         ]
        }
       }
      }
     },
     "metadata": {},
     "output_type": "display_data"
    }
   ],
   "source": [
    "from plotly.subplots import make_subplots\n",
    "import plotly.graph_objects as go\n",
    "\n",
    "# Define los colores para cada paso del embudo\n",
    "colores = ['#636EFA', '#EF553B', '#00CC96', '#AB63FA', '#FFA15A']\n",
    "\n",
    "# Crear la figura con subplots en una sola fila\n",
    "fig = make_subplots(rows=1, cols=2, subplot_titles=(\"Embudo de Conversión Grupo A\", \"Embudo de Conversión Grupo B\"))\n",
    "\n",
    "# Embudo Grupo A\n",
    "fig.add_trace(\n",
    "    go.Funnel(\n",
    "        y=embudo_a['event_name'],\n",
    "        x=embudo_a['user_id'],\n",
    "        textinfo=\"label+value+percent previous\",\n",
    "        text=embudo_a['tasa_conv'],\n",
    "        marker=dict(color=colores)\n",
    "    ),\n",
    "    row=1, col=1\n",
    ")\n",
    "\n",
    "# Embudo Grupo B\n",
    "fig.add_trace(\n",
    "    go.Funnel(\n",
    "        y=embudo_b['event_name'],\n",
    "        x=embudo_b['user_id'],\n",
    "        textinfo=\"label+value+percent previous\",\n",
    "        text=embudo_b['tasa_conv'],\n",
    "        marker=dict(color=colores)\n",
    "    ),\n",
    "    row=1, col=2\n",
    ")\n",
    "\n",
    "# Ajustes de layout para el título y el espaciado\n",
    "fig.update_layout(title=\"Embudo de Conversión Comparativo: Grupo A vs Grupo B\", showlegend=False)\n",
    "fig.show()\n"
   ]
  },
  {
   "cell_type": "markdown",
   "metadata": {},
   "source": [
    "Grupo A - Tasa de conversión = 31%\n",
    "Grupo B - Tasa de conversión = 26%\n",
    "\n",
    "Significa que "
   ]
  },
  {
   "cell_type": "markdown",
   "metadata": {},
   "source": [
    "### Prueba Z"
   ]
  },
  {
   "cell_type": "code",
   "execution_count": 46,
   "metadata": {},
   "outputs": [
    {
     "name": "stdout",
     "output_type": "stream",
     "text": [
      "0.3097119551363752 0.26873706004140785\n",
      "Estaditico Z: 165.10329641932003\n",
      "Valor P:  0.0\n"
     ]
    }
   ],
   "source": [
    "conversionA = 2430\n",
    "conversionB = 649\n",
    "totalA = 7846\n",
    "totalB = 2415\n",
    "#proporciones\n",
    "pA = conversionA / totalA\n",
    "pB = conversionB / totalB\n",
    "print(pA,pB)\n",
    "#propoción combinada\n",
    "\n",
    "p_combinada = (conversionA + conversionB ) / (totalB + totalA)\n",
    "\n",
    "#error estándar\n",
    "\n",
    "error_std = np.sqrt(p_combinada*(1-p_combinada))*((1 / totalA) + (1 / totalB))\n",
    "\n",
    "#Estadistico Z\n",
    "\n",
    "z_estadistico = ( pA - pB ) / error_std\n",
    "\n",
    "#valor P\n",
    "\n",
    "p_valor = 2* (1-norm.cdf(abs(z_estadistico)))\n",
    "\n",
    "print(f\"Estaditico Z:\",z_estadistico)\n",
    "\n",
    "print(f\"Valor P: \", p_valor)"
   ]
  },
  {
   "cell_type": "markdown",
   "metadata": {},
   "source": [
    "Conclusión:\n",
    "\n",
    "Existe una diferencia significativa entre los 2 grupos.\n",
    "El grupo B tiene un impacto menor que el grupo A, por lo que el ajuste para mejorar la tasa de conversión no es adecuado.\n",
    "No se logra el objetivo de tener un 10% de aumento en la tasa de conversión entre el grupo A y grupo B.\n",
    "1.- Es necesario tener grupos del mismo número de participantes.\n",
    "2.- Es necesario buscar mejoras para lograr una mejor tasa de conversión."
   ]
  },
  {
   "cell_type": "code",
   "execution_count": 45,
   "metadata": {},
   "outputs": [
    {
     "name": "stdout",
     "output_type": "stream",
     "text": [
      "Valor Z 3.8420929624701574\n",
      "valor P 0.00012198961229871237\n"
     ]
    }
   ],
   "source": [
    "#Segunda forma de hacer prueba Z.\n",
    "\n",
    "converionAB = [conversionA , conversionB]\n",
    "n = [totalA, totalB]\n",
    "\n",
    "# Prueba Z\n",
    "\n",
    "z_stat, p_value = sm.stats.proportions_ztest(converionAB,n)\n",
    "\n",
    "print(\"Valor Z\",z_stat)\n",
    "print(\"valor P\",p_value)"
   ]
  }
 ],
 "metadata": {
  "kernelspec": {
   "display_name": "base",
   "language": "python",
   "name": "python3"
  },
  "language_info": {
   "codemirror_mode": {
    "name": "ipython",
    "version": 3
   },
   "file_extension": ".py",
   "mimetype": "text/x-python",
   "name": "python",
   "nbconvert_exporter": "python",
   "pygments_lexer": "ipython3",
   "version": "3.11.7"
  }
 },
 "nbformat": 4,
 "nbformat_minor": 2
}
